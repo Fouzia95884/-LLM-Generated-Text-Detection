{
  "cells": [
    {
      "cell_type": "markdown",
      "metadata": {
        "id": "nBavIgGGgy0p"
      },
      "source": [
        "This notebook focuses on classifying human and AI generated text using DL models (BERT, DistilBERT and RoBERTa) \\\\\n",
        "  Project: this notebook contribute to a part of the CW of AML module, MSc CS&AI   \\\\\n",
        "Author: Fouzia Shile\n"
      ]
    },
    {
      "cell_type": "markdown",
      "metadata": {
        "id": "mv6gW-NaMnXb"
      },
      "source": [
        "1. Enable GPU in Google Colab\n",
        "Go to Runtime → Change runtime type → Select \"GPU\" → Click Save.\n",
        "Then, check if Colab detects the GPU by running:"
      ]
    },
    {
      "cell_type": "code",
      "execution_count": 1,
      "metadata": {
        "id": "4P1P0jKzMGes",
        "colab": {
          "base_uri": "https://localhost:8080/"
        },
        "outputId": "a0bc5399-b5c8-42a1-e710-f5484c713a07"
      },
      "outputs": [
        {
          "output_type": "stream",
          "name": "stdout",
          "text": [
            "Num GPUs available:  1\n"
          ]
        }
      ],
      "source": [
        "# check if a GPU is available to accelerate deep learning training with TensorFlow.\n",
        "import tensorflow as tf\n",
        "print(\"Num GPUs available: \", len(tf.config.list_physical_devices('GPU')))\n"
      ]
    },
    {
      "cell_type": "markdown",
      "metadata": {
        "id": "6hL3poKcMmYC"
      },
      "source": [
        "2. Use TensorFlow's Mixed Precision (Faster on GPU)\n",
        "For NVIDIA GPUs (T4, A100, V100), enable mixed precision to speed up training:"
      ]
    },
    {
      "cell_type": "code",
      "execution_count": 4,
      "metadata": {
        "id": "9Ctvjo1RMi0r"
      },
      "outputs": [],
      "source": [
        "# enable mixed precision training for faster training and lower memory usage. my  GPU  must support float16.\n",
        "from tensorflow.keras import mixed_precision\n",
        "mixed_precision.set_global_policy('mixed_float16')\n"
      ]
    },
    {
      "cell_type": "code",
      "execution_count": 5,
      "metadata": {
        "id": "vIGHgH861BZh",
        "colab": {
          "base_uri": "https://localhost:8080/"
        },
        "outputId": "99752f3a-d2a9-447d-cd61-db0a256ff740"
      },
      "outputs": [
        {
          "output_type": "stream",
          "name": "stdout",
          "text": [
            "Collecting keras-core\n",
            "  Downloading keras_core-0.1.7-py3-none-any.whl.metadata (4.3 kB)\n",
            "Requirement already satisfied: absl-py in /usr/local/lib/python3.11/dist-packages (from keras-core) (1.4.0)\n",
            "Requirement already satisfied: numpy in /usr/local/lib/python3.11/dist-packages (from keras-core) (2.0.2)\n",
            "Requirement already satisfied: rich in /usr/local/lib/python3.11/dist-packages (from keras-core) (13.9.4)\n",
            "Requirement already satisfied: namex in /usr/local/lib/python3.11/dist-packages (from keras-core) (0.0.9)\n",
            "Requirement already satisfied: h5py in /usr/local/lib/python3.11/dist-packages (from keras-core) (3.13.0)\n",
            "Requirement already satisfied: dm-tree in /usr/local/lib/python3.11/dist-packages (from keras-core) (0.1.9)\n",
            "Requirement already satisfied: attrs>=18.2.0 in /usr/local/lib/python3.11/dist-packages (from dm-tree->keras-core) (25.3.0)\n",
            "Requirement already satisfied: wrapt>=1.11.2 in /usr/local/lib/python3.11/dist-packages (from dm-tree->keras-core) (1.17.2)\n",
            "Requirement already satisfied: markdown-it-py>=2.2.0 in /usr/local/lib/python3.11/dist-packages (from rich->keras-core) (3.0.0)\n",
            "Requirement already satisfied: pygments<3.0.0,>=2.13.0 in /usr/local/lib/python3.11/dist-packages (from rich->keras-core) (2.19.1)\n",
            "Requirement already satisfied: mdurl~=0.1 in /usr/local/lib/python3.11/dist-packages (from markdown-it-py>=2.2.0->rich->keras-core) (0.1.2)\n",
            "Downloading keras_core-0.1.7-py3-none-any.whl (950 kB)\n",
            "\u001b[?25l   \u001b[90m━━━━━━━━━━━━━━━━━━━━━━━━━━━━━━━━━━━━━━━━\u001b[0m \u001b[32m0.0/950.8 kB\u001b[0m \u001b[31m?\u001b[0m eta \u001b[36m-:--:--\u001b[0m\r\u001b[2K   \u001b[90m━━━━━━━━━━━━━━━━━━━━━━━━━━━━━━━━━━━━━━━━\u001b[0m \u001b[32m950.8/950.8 kB\u001b[0m \u001b[31m46.9 MB/s\u001b[0m eta \u001b[36m0:00:00\u001b[0m\n",
            "\u001b[?25hInstalling collected packages: keras-core\n",
            "Successfully installed keras-core-0.1.7\n",
            "Requirement already satisfied: seaborn in /usr/local/lib/python3.11/dist-packages (0.13.2)\n",
            "Requirement already satisfied: numpy!=1.24.0,>=1.20 in /usr/local/lib/python3.11/dist-packages (from seaborn) (2.0.2)\n",
            "Requirement already satisfied: pandas>=1.2 in /usr/local/lib/python3.11/dist-packages (from seaborn) (2.2.2)\n",
            "Requirement already satisfied: matplotlib!=3.6.1,>=3.4 in /usr/local/lib/python3.11/dist-packages (from seaborn) (3.10.0)\n",
            "Requirement already satisfied: contourpy>=1.0.1 in /usr/local/lib/python3.11/dist-packages (from matplotlib!=3.6.1,>=3.4->seaborn) (1.3.2)\n",
            "Requirement already satisfied: cycler>=0.10 in /usr/local/lib/python3.11/dist-packages (from matplotlib!=3.6.1,>=3.4->seaborn) (0.12.1)\n",
            "Requirement already satisfied: fonttools>=4.22.0 in /usr/local/lib/python3.11/dist-packages (from matplotlib!=3.6.1,>=3.4->seaborn) (4.57.0)\n",
            "Requirement already satisfied: kiwisolver>=1.3.1 in /usr/local/lib/python3.11/dist-packages (from matplotlib!=3.6.1,>=3.4->seaborn) (1.4.8)\n",
            "Requirement already satisfied: packaging>=20.0 in /usr/local/lib/python3.11/dist-packages (from matplotlib!=3.6.1,>=3.4->seaborn) (24.2)\n",
            "Requirement already satisfied: pillow>=8 in /usr/local/lib/python3.11/dist-packages (from matplotlib!=3.6.1,>=3.4->seaborn) (11.2.1)\n",
            "Requirement already satisfied: pyparsing>=2.3.1 in /usr/local/lib/python3.11/dist-packages (from matplotlib!=3.6.1,>=3.4->seaborn) (3.2.3)\n",
            "Requirement already satisfied: python-dateutil>=2.7 in /usr/local/lib/python3.11/dist-packages (from matplotlib!=3.6.1,>=3.4->seaborn) (2.9.0.post0)\n",
            "Requirement already satisfied: pytz>=2020.1 in /usr/local/lib/python3.11/dist-packages (from pandas>=1.2->seaborn) (2025.2)\n",
            "Requirement already satisfied: tzdata>=2022.7 in /usr/local/lib/python3.11/dist-packages (from pandas>=1.2->seaborn) (2025.2)\n",
            "Requirement already satisfied: six>=1.5 in /usr/local/lib/python3.11/dist-packages (from python-dateutil>=2.7->matplotlib!=3.6.1,>=3.4->seaborn) (1.17.0)\n"
          ]
        }
      ],
      "source": [
        "!pip install keras-core --upgrade # deep learning library\n",
        "!pip install -q keras-nlp # for NLP tasks like tokenization\n",
        "!pip install seaborn # for plotting"
      ]
    },
    {
      "cell_type": "markdown",
      "metadata": {
        "id": "fvjsYGvWEumA"
      },
      "source": [
        "Loads standard Python, TensorFlow, Keras, and plotting libraries."
      ]
    },
    {
      "cell_type": "code",
      "execution_count": 6,
      "metadata": {
        "colab": {
          "base_uri": "https://localhost:8080/"
        },
        "id": "AxMaxYbf1BZi",
        "outputId": "9c3d5264-e781-48db-b758-5e0a8203db1a"
      },
      "outputs": [
        {
          "output_type": "stream",
          "name": "stdout",
          "text": [
            "Using TensorFlow backend\n",
            "TensorFlow version: 2.18.0\n",
            "Keras version: 0.1.7\n",
            "KerasNLP version: 0.18.1\n"
          ]
        }
      ],
      "source": [
        "import os\n",
        "os.environ['KERAS_BACKEND'] = 'tensorflow'\n",
        "import numpy as np # linear algebra\n",
        "import pandas as pd # data processing, CSV file I/O (e.g. pd.read_csv)\n",
        "import tensorflow as tf\n",
        "import keras_core as keras\n",
        "import keras_nlp\n",
        "import seaborn as sns\n",
        "import matplotlib.pyplot as plt\n",
        "\n",
        "\n",
        "print(\"TensorFlow version:\", tf.__version__)\n",
        "print(\"Keras version:\", keras.__version__)\n",
        "print(\"KerasNLP version:\", keras_nlp.__version__)"
      ]
    },
    {
      "cell_type": "markdown",
      "metadata": {
        "id": "QrhEYI1vhNzz"
      },
      "source": [
        "# Load datasets"
      ]
    },
    {
      "cell_type": "code",
      "execution_count": 7,
      "metadata": {
        "id": "dnosEl801BZj"
      },
      "outputs": [],
      "source": [
        "df1 = pd.read_csv('dforiginal.csv') # this is the first dataset with few samples\n",
        "df2 = pd.read_csv('detectAItext.csv') # this is the 2nd dataset with new prompts and new LLMs,...\n"
      ]
    },
    {
      "cell_type": "code",
      "execution_count": 8,
      "metadata": {
        "id": "dDe3rSC6hpcK",
        "colab": {
          "base_uri": "https://localhost:8080/"
        },
        "outputId": "a65468e2-8cda-44e7-e41b-1c4bb288a813"
      },
      "outputs": [
        {
          "output_type": "stream",
          "name": "stdout",
          "text": [
            "size of df1 is:  (1378, 4)\n",
            "size of df2 is:  (44868, 5)\n"
          ]
        }
      ],
      "source": [
        "print('size of df1 is: ', df1.shape)\n",
        "print('size of df2 is: ', df2.shape)"
      ]
    },
    {
      "cell_type": "code",
      "execution_count": 9,
      "metadata": {
        "colab": {
          "base_uri": "https://localhost:8080/",
          "height": 204
        },
        "id": "VLBQj-HthsKB",
        "outputId": "c6c58b28-f5e4-46fa-f55e-1e99cfcc1526"
      },
      "outputs": [
        {
          "output_type": "execute_result",
          "data": {
            "text/plain": [
              "         id  prompt_id                                               text  \\\n",
              "0  0059830c          0  Cars. Cars have been around since they became ...   \n",
              "1  005db917          0  Transportation is a large necessity in most co...   \n",
              "2  008f63e3          0  \"America's love affair with it's vehicles seem...   \n",
              "3  00940276          0  How often do you ride in a car? Do you drive a...   \n",
              "4  00c39458          0  Cars are a wonderful thing. They are perhaps o...   \n",
              "\n",
              "   generated  \n",
              "0          0  \n",
              "1          0  \n",
              "2          0  \n",
              "3          0  \n",
              "4          0  "
            ],
            "text/html": [
              "\n",
              "  <div id=\"df-5d572c9f-4dff-4505-9dd7-ee5f60b68807\" class=\"colab-df-container\">\n",
              "    <div>\n",
              "<style scoped>\n",
              "    .dataframe tbody tr th:only-of-type {\n",
              "        vertical-align: middle;\n",
              "    }\n",
              "\n",
              "    .dataframe tbody tr th {\n",
              "        vertical-align: top;\n",
              "    }\n",
              "\n",
              "    .dataframe thead th {\n",
              "        text-align: right;\n",
              "    }\n",
              "</style>\n",
              "<table border=\"1\" class=\"dataframe\">\n",
              "  <thead>\n",
              "    <tr style=\"text-align: right;\">\n",
              "      <th></th>\n",
              "      <th>id</th>\n",
              "      <th>prompt_id</th>\n",
              "      <th>text</th>\n",
              "      <th>generated</th>\n",
              "    </tr>\n",
              "  </thead>\n",
              "  <tbody>\n",
              "    <tr>\n",
              "      <th>0</th>\n",
              "      <td>0059830c</td>\n",
              "      <td>0</td>\n",
              "      <td>Cars. Cars have been around since they became ...</td>\n",
              "      <td>0</td>\n",
              "    </tr>\n",
              "    <tr>\n",
              "      <th>1</th>\n",
              "      <td>005db917</td>\n",
              "      <td>0</td>\n",
              "      <td>Transportation is a large necessity in most co...</td>\n",
              "      <td>0</td>\n",
              "    </tr>\n",
              "    <tr>\n",
              "      <th>2</th>\n",
              "      <td>008f63e3</td>\n",
              "      <td>0</td>\n",
              "      <td>\"America's love affair with it's vehicles seem...</td>\n",
              "      <td>0</td>\n",
              "    </tr>\n",
              "    <tr>\n",
              "      <th>3</th>\n",
              "      <td>00940276</td>\n",
              "      <td>0</td>\n",
              "      <td>How often do you ride in a car? Do you drive a...</td>\n",
              "      <td>0</td>\n",
              "    </tr>\n",
              "    <tr>\n",
              "      <th>4</th>\n",
              "      <td>00c39458</td>\n",
              "      <td>0</td>\n",
              "      <td>Cars are a wonderful thing. They are perhaps o...</td>\n",
              "      <td>0</td>\n",
              "    </tr>\n",
              "  </tbody>\n",
              "</table>\n",
              "</div>\n",
              "    <div class=\"colab-df-buttons\">\n",
              "\n",
              "  <div class=\"colab-df-container\">\n",
              "    <button class=\"colab-df-convert\" onclick=\"convertToInteractive('df-5d572c9f-4dff-4505-9dd7-ee5f60b68807')\"\n",
              "            title=\"Convert this dataframe to an interactive table.\"\n",
              "            style=\"display:none;\">\n",
              "\n",
              "  <svg xmlns=\"http://www.w3.org/2000/svg\" height=\"24px\" viewBox=\"0 -960 960 960\">\n",
              "    <path d=\"M120-120v-720h720v720H120Zm60-500h600v-160H180v160Zm220 220h160v-160H400v160Zm0 220h160v-160H400v160ZM180-400h160v-160H180v160Zm440 0h160v-160H620v160ZM180-180h160v-160H180v160Zm440 0h160v-160H620v160Z\"/>\n",
              "  </svg>\n",
              "    </button>\n",
              "\n",
              "  <style>\n",
              "    .colab-df-container {\n",
              "      display:flex;\n",
              "      gap: 12px;\n",
              "    }\n",
              "\n",
              "    .colab-df-convert {\n",
              "      background-color: #E8F0FE;\n",
              "      border: none;\n",
              "      border-radius: 50%;\n",
              "      cursor: pointer;\n",
              "      display: none;\n",
              "      fill: #1967D2;\n",
              "      height: 32px;\n",
              "      padding: 0 0 0 0;\n",
              "      width: 32px;\n",
              "    }\n",
              "\n",
              "    .colab-df-convert:hover {\n",
              "      background-color: #E2EBFA;\n",
              "      box-shadow: 0px 1px 2px rgba(60, 64, 67, 0.3), 0px 1px 3px 1px rgba(60, 64, 67, 0.15);\n",
              "      fill: #174EA6;\n",
              "    }\n",
              "\n",
              "    .colab-df-buttons div {\n",
              "      margin-bottom: 4px;\n",
              "    }\n",
              "\n",
              "    [theme=dark] .colab-df-convert {\n",
              "      background-color: #3B4455;\n",
              "      fill: #D2E3FC;\n",
              "    }\n",
              "\n",
              "    [theme=dark] .colab-df-convert:hover {\n",
              "      background-color: #434B5C;\n",
              "      box-shadow: 0px 1px 3px 1px rgba(0, 0, 0, 0.15);\n",
              "      filter: drop-shadow(0px 1px 2px rgba(0, 0, 0, 0.3));\n",
              "      fill: #FFFFFF;\n",
              "    }\n",
              "  </style>\n",
              "\n",
              "    <script>\n",
              "      const buttonEl =\n",
              "        document.querySelector('#df-5d572c9f-4dff-4505-9dd7-ee5f60b68807 button.colab-df-convert');\n",
              "      buttonEl.style.display =\n",
              "        google.colab.kernel.accessAllowed ? 'block' : 'none';\n",
              "\n",
              "      async function convertToInteractive(key) {\n",
              "        const element = document.querySelector('#df-5d572c9f-4dff-4505-9dd7-ee5f60b68807');\n",
              "        const dataTable =\n",
              "          await google.colab.kernel.invokeFunction('convertToInteractive',\n",
              "                                                    [key], {});\n",
              "        if (!dataTable) return;\n",
              "\n",
              "        const docLinkHtml = 'Like what you see? Visit the ' +\n",
              "          '<a target=\"_blank\" href=https://colab.research.google.com/notebooks/data_table.ipynb>data table notebook</a>'\n",
              "          + ' to learn more about interactive tables.';\n",
              "        element.innerHTML = '';\n",
              "        dataTable['output_type'] = 'display_data';\n",
              "        await google.colab.output.renderOutput(dataTable, element);\n",
              "        const docLink = document.createElement('div');\n",
              "        docLink.innerHTML = docLinkHtml;\n",
              "        element.appendChild(docLink);\n",
              "      }\n",
              "    </script>\n",
              "  </div>\n",
              "\n",
              "\n",
              "    <div id=\"df-084ae352-aeb5-4b4e-a0b9-c15b7762f6d5\">\n",
              "      <button class=\"colab-df-quickchart\" onclick=\"quickchart('df-084ae352-aeb5-4b4e-a0b9-c15b7762f6d5')\"\n",
              "                title=\"Suggest charts\"\n",
              "                style=\"display:none;\">\n",
              "\n",
              "<svg xmlns=\"http://www.w3.org/2000/svg\" height=\"24px\"viewBox=\"0 0 24 24\"\n",
              "     width=\"24px\">\n",
              "    <g>\n",
              "        <path d=\"M19 3H5c-1.1 0-2 .9-2 2v14c0 1.1.9 2 2 2h14c1.1 0 2-.9 2-2V5c0-1.1-.9-2-2-2zM9 17H7v-7h2v7zm4 0h-2V7h2v10zm4 0h-2v-4h2v4z\"/>\n",
              "    </g>\n",
              "</svg>\n",
              "      </button>\n",
              "\n",
              "<style>\n",
              "  .colab-df-quickchart {\n",
              "      --bg-color: #E8F0FE;\n",
              "      --fill-color: #1967D2;\n",
              "      --hover-bg-color: #E2EBFA;\n",
              "      --hover-fill-color: #174EA6;\n",
              "      --disabled-fill-color: #AAA;\n",
              "      --disabled-bg-color: #DDD;\n",
              "  }\n",
              "\n",
              "  [theme=dark] .colab-df-quickchart {\n",
              "      --bg-color: #3B4455;\n",
              "      --fill-color: #D2E3FC;\n",
              "      --hover-bg-color: #434B5C;\n",
              "      --hover-fill-color: #FFFFFF;\n",
              "      --disabled-bg-color: #3B4455;\n",
              "      --disabled-fill-color: #666;\n",
              "  }\n",
              "\n",
              "  .colab-df-quickchart {\n",
              "    background-color: var(--bg-color);\n",
              "    border: none;\n",
              "    border-radius: 50%;\n",
              "    cursor: pointer;\n",
              "    display: none;\n",
              "    fill: var(--fill-color);\n",
              "    height: 32px;\n",
              "    padding: 0;\n",
              "    width: 32px;\n",
              "  }\n",
              "\n",
              "  .colab-df-quickchart:hover {\n",
              "    background-color: var(--hover-bg-color);\n",
              "    box-shadow: 0 1px 2px rgba(60, 64, 67, 0.3), 0 1px 3px 1px rgba(60, 64, 67, 0.15);\n",
              "    fill: var(--button-hover-fill-color);\n",
              "  }\n",
              "\n",
              "  .colab-df-quickchart-complete:disabled,\n",
              "  .colab-df-quickchart-complete:disabled:hover {\n",
              "    background-color: var(--disabled-bg-color);\n",
              "    fill: var(--disabled-fill-color);\n",
              "    box-shadow: none;\n",
              "  }\n",
              "\n",
              "  .colab-df-spinner {\n",
              "    border: 2px solid var(--fill-color);\n",
              "    border-color: transparent;\n",
              "    border-bottom-color: var(--fill-color);\n",
              "    animation:\n",
              "      spin 1s steps(1) infinite;\n",
              "  }\n",
              "\n",
              "  @keyframes spin {\n",
              "    0% {\n",
              "      border-color: transparent;\n",
              "      border-bottom-color: var(--fill-color);\n",
              "      border-left-color: var(--fill-color);\n",
              "    }\n",
              "    20% {\n",
              "      border-color: transparent;\n",
              "      border-left-color: var(--fill-color);\n",
              "      border-top-color: var(--fill-color);\n",
              "    }\n",
              "    30% {\n",
              "      border-color: transparent;\n",
              "      border-left-color: var(--fill-color);\n",
              "      border-top-color: var(--fill-color);\n",
              "      border-right-color: var(--fill-color);\n",
              "    }\n",
              "    40% {\n",
              "      border-color: transparent;\n",
              "      border-right-color: var(--fill-color);\n",
              "      border-top-color: var(--fill-color);\n",
              "    }\n",
              "    60% {\n",
              "      border-color: transparent;\n",
              "      border-right-color: var(--fill-color);\n",
              "    }\n",
              "    80% {\n",
              "      border-color: transparent;\n",
              "      border-right-color: var(--fill-color);\n",
              "      border-bottom-color: var(--fill-color);\n",
              "    }\n",
              "    90% {\n",
              "      border-color: transparent;\n",
              "      border-bottom-color: var(--fill-color);\n",
              "    }\n",
              "  }\n",
              "</style>\n",
              "\n",
              "      <script>\n",
              "        async function quickchart(key) {\n",
              "          const quickchartButtonEl =\n",
              "            document.querySelector('#' + key + ' button');\n",
              "          quickchartButtonEl.disabled = true;  // To prevent multiple clicks.\n",
              "          quickchartButtonEl.classList.add('colab-df-spinner');\n",
              "          try {\n",
              "            const charts = await google.colab.kernel.invokeFunction(\n",
              "                'suggestCharts', [key], {});\n",
              "          } catch (error) {\n",
              "            console.error('Error during call to suggestCharts:', error);\n",
              "          }\n",
              "          quickchartButtonEl.classList.remove('colab-df-spinner');\n",
              "          quickchartButtonEl.classList.add('colab-df-quickchart-complete');\n",
              "        }\n",
              "        (() => {\n",
              "          let quickchartButtonEl =\n",
              "            document.querySelector('#df-084ae352-aeb5-4b4e-a0b9-c15b7762f6d5 button');\n",
              "          quickchartButtonEl.style.display =\n",
              "            google.colab.kernel.accessAllowed ? 'block' : 'none';\n",
              "        })();\n",
              "      </script>\n",
              "    </div>\n",
              "\n",
              "    </div>\n",
              "  </div>\n"
            ],
            "application/vnd.google.colaboratory.intrinsic+json": {
              "type": "dataframe",
              "variable_name": "df1",
              "summary": "{\n  \"name\": \"df1\",\n  \"rows\": 1378,\n  \"fields\": [\n    {\n      \"column\": \"id\",\n      \"properties\": {\n        \"dtype\": \"string\",\n        \"num_unique_values\": 1378,\n        \"samples\": [\n          \"70d7c567\",\n          \"81977e6c\",\n          \"e43869b8\"\n        ],\n        \"semantic_type\": \"\",\n        \"description\": \"\"\n      }\n    },\n    {\n      \"column\": \"prompt_id\",\n      \"properties\": {\n        \"dtype\": \"number\",\n        \"std\": 0,\n        \"min\": 0,\n        \"max\": 1,\n        \"num_unique_values\": 2,\n        \"samples\": [\n          1,\n          0\n        ],\n        \"semantic_type\": \"\",\n        \"description\": \"\"\n      }\n    },\n    {\n      \"column\": \"text\",\n      \"properties\": {\n        \"dtype\": \"string\",\n        \"num_unique_values\": 1378,\n        \"samples\": [\n          \"Can you imagine living in a place where there is no driving? It is an amazing thing to think if every person doesn't drive in one big city that it saves so much pollution going in to the air. Another thing to think about is if everyone in a city didn't drive and walked everywhere, more people would stay healthier by staying in shape. Some people think that owning a car is more stressful than just walking everywhere. If you don't own a car you don't have to pay for insurance, don't have to pay for gas, and don't have to pay for repairs when something goes wrong in a vehicle. To me it sounds like there is a lot of advantages in limiting car use.\\n\\nOne solid reason why not using cars as much is the pollution going in the air. In Paris, France motorists with even numbered license plates were ordered to leave their cars at their house or else they would be fined. The next day odd numbered license plates motorists had to leave their vehicles at home. It was a hardship at first to get people to follow these new rules, but after about five days everything started to cool down. The pollution had dropped 60 percent in Paris which is exactly what the city was looking for. Limiting the car usage didn't just save pollution from going in the air, but also there wasn't as much traffic as there usually was. It also made Paris a safer place to be outside and not damage the citizens lungs. The capital city of France also made transportation free MondayFriday to help the cause. Soon enough people that had both license plates could drive on the same day.\\n\\nIn Bogota, Colombia they do a car free day that is becoming popular in that part of the world. It is awesome to think there are 7 million people in that city and none of them are using a car. People that violated this goal on this day were charged a 25 fine. People from other countries came to see how this day worked and they loved it. The mayor of Asuncion, Paraguay said \\\"These people are generating a revolutionary change, and this is crossing borders.\\\" You can just imagine all the benefits of everyone not using a car in a city for a whole day. Restaurants and parks would be visited and used more and everyone would be getting more exercise. All in all this idea was genius.\\n\\nAs you can see limiting car usage can help out the area big time that it is taking place. It is better breathing air, businesses like restaurants and parks would be used more and grow steadily, and the city would be taken care of better.\",\n          \"Limiting car usage could have many advantages on our planet. Many cities, such as Vauban in Germany, have given up on using cars to help the world around them. \\\"vaughn's streets are completely carfree,except the main thoroughfare, where the tram to downtown Freiburg runs, and a few streets on one edge of the community.\\\" There is a movement going on called, \\\"smart planning\\\" and Vauban is just one example of a growing trend in Europe of limiting auto use. The article says that passenger cars are responsible for twelve percent of greenhouse gas emissions in Europe. It seems that the people in Europe are realizing that so much car usage is harming their environment, and they are trying to set a trend for other countries like the United States to follow to limit using cars.\\n\\nHow much people use their cars is very important. Polluted air is a very widespread problem in many regions of the world. Paris had days of nearrecord pollution, and decided to enforce a partial driving ban to try to help clear the air of the city. The article says that almost 4,000 drivers were fined, and twentyseven had their cars impounded for their reaction to the fine. \\\"Congestion was down 60 percent in the capital of France, after five days of intensifying smog.\\\" The driving ban helped clear the smog, because it reduced car emissions. Paris has more smog than many other European capitals, which is why reducing how much citizens drive their cars is a good idea.\\n\\nSome cities have days that are completely car free. Bogota, Colombia is one of them. They have been having a Day Without Cars for three straight years. Cars are banned for the day and buses and taxis are the only exception. The city holds about 7 million people, and had a large turnout. \\\"It's a good opportunity to take away stress and lower air pollution,\\\" said businessman Carlos Arturo Plaza. The mayor of Asuncion, Paraguay even said that, \\\"These people are generating a revolutionary change, and this is crossing borders.\\\" The Day Without Cars has even helped stores and sports center come up throughout the city. Instead of shopping centers along a highway, those stores are now in the city and easy to get to without having to use a car.\\n\\nResearchers have been studying America's ways of car usage and driving. America is home to the first cars like the Model T, or \\\"Mustang Sally.\\\" Vehichles have always been a huge part of culture, but it seems now that that might not be the case anymore. \\\"As of April 2013, the number of miles driven per person was nearly 9 percent below the peak and equal to where the country was in January 1995.\\\" Researchers are actually hoping that the pattern continues because it will have beneficial implications for carbon emissions on the environment. Transportation is the second largest source, behind power plants, of emissions. Many changes have now happened in America, which are making using cars not as important. \\\"With all these changes, people who stopped car commuting as a result of the recession may find less reason to resume the habit..\\\" The article says. If we could slow down the usage of cars and emission, maybe we could help the planet become a better place.\\n\\nSince the percentage of car usage has gone down in America, so has the percentage of getting a license. There has been a large drop in 1639 year olds getting a license, Mr. Sivak's research has found. Older people are also likely to retain their licenses as they age. Mr. Sivak and another man both have children of about the same age, 19 and 21, and live in busy cities where a car could be useful. Neither one of them has their licenses, even though they are interested, but they don't really see the need for one when they can use public transportation or carpool with their friends. The article says that a study last year has also found that driving by young people decreased 23 percent between 2001 and 2009. Whether or not this changes as these young people grow older, these decreases in driving are proving that cars might just not be as important as they used to be.\\n\\nOur planet is just continuing to get worse from emissions from cars. Some countries are starting to realize this and are working hard to limit car usage and have citizens rely just on public transportation, walking, or riding a bike. Bill Ford proposed partnering with the telecommunications industry to create cities in which, \\\"pedestrian, bicycle, private cars, commercial, and public transportation traffic are woven into a connected network to save time, conserve resources, lower emissions, and improve safety.\\\" Citizens all over the world can work together to reduce car usage and better improve our planet.\"\n        ],\n        \"semantic_type\": \"\",\n        \"description\": \"\"\n      }\n    },\n    {\n      \"column\": \"generated\",\n      \"properties\": {\n        \"dtype\": \"number\",\n        \"std\": 0,\n        \"min\": 0,\n        \"max\": 1,\n        \"num_unique_values\": 2,\n        \"samples\": [\n          1,\n          0\n        ],\n        \"semantic_type\": \"\",\n        \"description\": \"\"\n      }\n    }\n  ]\n}"
            }
          },
          "metadata": {},
          "execution_count": 9
        }
      ],
      "source": [
        "df1.head()"
      ]
    },
    {
      "cell_type": "code",
      "execution_count": 10,
      "metadata": {
        "colab": {
          "base_uri": "https://localhost:8080/",
          "height": 204
        },
        "id": "L5_AiigphufR",
        "outputId": "b131ac99-ca83-4967-c703-92e1d4548339"
      },
      "outputs": [
        {
          "output_type": "execute_result",
          "data": {
            "text/plain": [
              "                                                text  label  \\\n",
              "0  Phones\\n\\nModern humans today are always on th...      0   \n",
              "1  This essay will explain if drivers should or s...      0   \n",
              "2  Driving while the use of cellular devices\\n\\nT...      0   \n",
              "3  Phones & Driving\\n\\nDrivers should not be able...      0   \n",
              "4  Cell Phone Operation While Driving\\n\\nThe abil...      0   \n",
              "\n",
              "          prompt_name           source  RDizzl3_seven  \n",
              "0  Phones and driving  persuade_corpus          False  \n",
              "1  Phones and driving  persuade_corpus          False  \n",
              "2  Phones and driving  persuade_corpus          False  \n",
              "3  Phones and driving  persuade_corpus          False  \n",
              "4  Phones and driving  persuade_corpus          False  "
            ],
            "text/html": [
              "\n",
              "  <div id=\"df-1658888a-171e-434d-abe3-d0f536dad279\" class=\"colab-df-container\">\n",
              "    <div>\n",
              "<style scoped>\n",
              "    .dataframe tbody tr th:only-of-type {\n",
              "        vertical-align: middle;\n",
              "    }\n",
              "\n",
              "    .dataframe tbody tr th {\n",
              "        vertical-align: top;\n",
              "    }\n",
              "\n",
              "    .dataframe thead th {\n",
              "        text-align: right;\n",
              "    }\n",
              "</style>\n",
              "<table border=\"1\" class=\"dataframe\">\n",
              "  <thead>\n",
              "    <tr style=\"text-align: right;\">\n",
              "      <th></th>\n",
              "      <th>text</th>\n",
              "      <th>label</th>\n",
              "      <th>prompt_name</th>\n",
              "      <th>source</th>\n",
              "      <th>RDizzl3_seven</th>\n",
              "    </tr>\n",
              "  </thead>\n",
              "  <tbody>\n",
              "    <tr>\n",
              "      <th>0</th>\n",
              "      <td>Phones\\n\\nModern humans today are always on th...</td>\n",
              "      <td>0</td>\n",
              "      <td>Phones and driving</td>\n",
              "      <td>persuade_corpus</td>\n",
              "      <td>False</td>\n",
              "    </tr>\n",
              "    <tr>\n",
              "      <th>1</th>\n",
              "      <td>This essay will explain if drivers should or s...</td>\n",
              "      <td>0</td>\n",
              "      <td>Phones and driving</td>\n",
              "      <td>persuade_corpus</td>\n",
              "      <td>False</td>\n",
              "    </tr>\n",
              "    <tr>\n",
              "      <th>2</th>\n",
              "      <td>Driving while the use of cellular devices\\n\\nT...</td>\n",
              "      <td>0</td>\n",
              "      <td>Phones and driving</td>\n",
              "      <td>persuade_corpus</td>\n",
              "      <td>False</td>\n",
              "    </tr>\n",
              "    <tr>\n",
              "      <th>3</th>\n",
              "      <td>Phones &amp; Driving\\n\\nDrivers should not be able...</td>\n",
              "      <td>0</td>\n",
              "      <td>Phones and driving</td>\n",
              "      <td>persuade_corpus</td>\n",
              "      <td>False</td>\n",
              "    </tr>\n",
              "    <tr>\n",
              "      <th>4</th>\n",
              "      <td>Cell Phone Operation While Driving\\n\\nThe abil...</td>\n",
              "      <td>0</td>\n",
              "      <td>Phones and driving</td>\n",
              "      <td>persuade_corpus</td>\n",
              "      <td>False</td>\n",
              "    </tr>\n",
              "  </tbody>\n",
              "</table>\n",
              "</div>\n",
              "    <div class=\"colab-df-buttons\">\n",
              "\n",
              "  <div class=\"colab-df-container\">\n",
              "    <button class=\"colab-df-convert\" onclick=\"convertToInteractive('df-1658888a-171e-434d-abe3-d0f536dad279')\"\n",
              "            title=\"Convert this dataframe to an interactive table.\"\n",
              "            style=\"display:none;\">\n",
              "\n",
              "  <svg xmlns=\"http://www.w3.org/2000/svg\" height=\"24px\" viewBox=\"0 -960 960 960\">\n",
              "    <path d=\"M120-120v-720h720v720H120Zm60-500h600v-160H180v160Zm220 220h160v-160H400v160Zm0 220h160v-160H400v160ZM180-400h160v-160H180v160Zm440 0h160v-160H620v160ZM180-180h160v-160H180v160Zm440 0h160v-160H620v160Z\"/>\n",
              "  </svg>\n",
              "    </button>\n",
              "\n",
              "  <style>\n",
              "    .colab-df-container {\n",
              "      display:flex;\n",
              "      gap: 12px;\n",
              "    }\n",
              "\n",
              "    .colab-df-convert {\n",
              "      background-color: #E8F0FE;\n",
              "      border: none;\n",
              "      border-radius: 50%;\n",
              "      cursor: pointer;\n",
              "      display: none;\n",
              "      fill: #1967D2;\n",
              "      height: 32px;\n",
              "      padding: 0 0 0 0;\n",
              "      width: 32px;\n",
              "    }\n",
              "\n",
              "    .colab-df-convert:hover {\n",
              "      background-color: #E2EBFA;\n",
              "      box-shadow: 0px 1px 2px rgba(60, 64, 67, 0.3), 0px 1px 3px 1px rgba(60, 64, 67, 0.15);\n",
              "      fill: #174EA6;\n",
              "    }\n",
              "\n",
              "    .colab-df-buttons div {\n",
              "      margin-bottom: 4px;\n",
              "    }\n",
              "\n",
              "    [theme=dark] .colab-df-convert {\n",
              "      background-color: #3B4455;\n",
              "      fill: #D2E3FC;\n",
              "    }\n",
              "\n",
              "    [theme=dark] .colab-df-convert:hover {\n",
              "      background-color: #434B5C;\n",
              "      box-shadow: 0px 1px 3px 1px rgba(0, 0, 0, 0.15);\n",
              "      filter: drop-shadow(0px 1px 2px rgba(0, 0, 0, 0.3));\n",
              "      fill: #FFFFFF;\n",
              "    }\n",
              "  </style>\n",
              "\n",
              "    <script>\n",
              "      const buttonEl =\n",
              "        document.querySelector('#df-1658888a-171e-434d-abe3-d0f536dad279 button.colab-df-convert');\n",
              "      buttonEl.style.display =\n",
              "        google.colab.kernel.accessAllowed ? 'block' : 'none';\n",
              "\n",
              "      async function convertToInteractive(key) {\n",
              "        const element = document.querySelector('#df-1658888a-171e-434d-abe3-d0f536dad279');\n",
              "        const dataTable =\n",
              "          await google.colab.kernel.invokeFunction('convertToInteractive',\n",
              "                                                    [key], {});\n",
              "        if (!dataTable) return;\n",
              "\n",
              "        const docLinkHtml = 'Like what you see? Visit the ' +\n",
              "          '<a target=\"_blank\" href=https://colab.research.google.com/notebooks/data_table.ipynb>data table notebook</a>'\n",
              "          + ' to learn more about interactive tables.';\n",
              "        element.innerHTML = '';\n",
              "        dataTable['output_type'] = 'display_data';\n",
              "        await google.colab.output.renderOutput(dataTable, element);\n",
              "        const docLink = document.createElement('div');\n",
              "        docLink.innerHTML = docLinkHtml;\n",
              "        element.appendChild(docLink);\n",
              "      }\n",
              "    </script>\n",
              "  </div>\n",
              "\n",
              "\n",
              "    <div id=\"df-1e642db7-9fbb-4d0c-92de-648d67f9bdf4\">\n",
              "      <button class=\"colab-df-quickchart\" onclick=\"quickchart('df-1e642db7-9fbb-4d0c-92de-648d67f9bdf4')\"\n",
              "                title=\"Suggest charts\"\n",
              "                style=\"display:none;\">\n",
              "\n",
              "<svg xmlns=\"http://www.w3.org/2000/svg\" height=\"24px\"viewBox=\"0 0 24 24\"\n",
              "     width=\"24px\">\n",
              "    <g>\n",
              "        <path d=\"M19 3H5c-1.1 0-2 .9-2 2v14c0 1.1.9 2 2 2h14c1.1 0 2-.9 2-2V5c0-1.1-.9-2-2-2zM9 17H7v-7h2v7zm4 0h-2V7h2v10zm4 0h-2v-4h2v4z\"/>\n",
              "    </g>\n",
              "</svg>\n",
              "      </button>\n",
              "\n",
              "<style>\n",
              "  .colab-df-quickchart {\n",
              "      --bg-color: #E8F0FE;\n",
              "      --fill-color: #1967D2;\n",
              "      --hover-bg-color: #E2EBFA;\n",
              "      --hover-fill-color: #174EA6;\n",
              "      --disabled-fill-color: #AAA;\n",
              "      --disabled-bg-color: #DDD;\n",
              "  }\n",
              "\n",
              "  [theme=dark] .colab-df-quickchart {\n",
              "      --bg-color: #3B4455;\n",
              "      --fill-color: #D2E3FC;\n",
              "      --hover-bg-color: #434B5C;\n",
              "      --hover-fill-color: #FFFFFF;\n",
              "      --disabled-bg-color: #3B4455;\n",
              "      --disabled-fill-color: #666;\n",
              "  }\n",
              "\n",
              "  .colab-df-quickchart {\n",
              "    background-color: var(--bg-color);\n",
              "    border: none;\n",
              "    border-radius: 50%;\n",
              "    cursor: pointer;\n",
              "    display: none;\n",
              "    fill: var(--fill-color);\n",
              "    height: 32px;\n",
              "    padding: 0;\n",
              "    width: 32px;\n",
              "  }\n",
              "\n",
              "  .colab-df-quickchart:hover {\n",
              "    background-color: var(--hover-bg-color);\n",
              "    box-shadow: 0 1px 2px rgba(60, 64, 67, 0.3), 0 1px 3px 1px rgba(60, 64, 67, 0.15);\n",
              "    fill: var(--button-hover-fill-color);\n",
              "  }\n",
              "\n",
              "  .colab-df-quickchart-complete:disabled,\n",
              "  .colab-df-quickchart-complete:disabled:hover {\n",
              "    background-color: var(--disabled-bg-color);\n",
              "    fill: var(--disabled-fill-color);\n",
              "    box-shadow: none;\n",
              "  }\n",
              "\n",
              "  .colab-df-spinner {\n",
              "    border: 2px solid var(--fill-color);\n",
              "    border-color: transparent;\n",
              "    border-bottom-color: var(--fill-color);\n",
              "    animation:\n",
              "      spin 1s steps(1) infinite;\n",
              "  }\n",
              "\n",
              "  @keyframes spin {\n",
              "    0% {\n",
              "      border-color: transparent;\n",
              "      border-bottom-color: var(--fill-color);\n",
              "      border-left-color: var(--fill-color);\n",
              "    }\n",
              "    20% {\n",
              "      border-color: transparent;\n",
              "      border-left-color: var(--fill-color);\n",
              "      border-top-color: var(--fill-color);\n",
              "    }\n",
              "    30% {\n",
              "      border-color: transparent;\n",
              "      border-left-color: var(--fill-color);\n",
              "      border-top-color: var(--fill-color);\n",
              "      border-right-color: var(--fill-color);\n",
              "    }\n",
              "    40% {\n",
              "      border-color: transparent;\n",
              "      border-right-color: var(--fill-color);\n",
              "      border-top-color: var(--fill-color);\n",
              "    }\n",
              "    60% {\n",
              "      border-color: transparent;\n",
              "      border-right-color: var(--fill-color);\n",
              "    }\n",
              "    80% {\n",
              "      border-color: transparent;\n",
              "      border-right-color: var(--fill-color);\n",
              "      border-bottom-color: var(--fill-color);\n",
              "    }\n",
              "    90% {\n",
              "      border-color: transparent;\n",
              "      border-bottom-color: var(--fill-color);\n",
              "    }\n",
              "  }\n",
              "</style>\n",
              "\n",
              "      <script>\n",
              "        async function quickchart(key) {\n",
              "          const quickchartButtonEl =\n",
              "            document.querySelector('#' + key + ' button');\n",
              "          quickchartButtonEl.disabled = true;  // To prevent multiple clicks.\n",
              "          quickchartButtonEl.classList.add('colab-df-spinner');\n",
              "          try {\n",
              "            const charts = await google.colab.kernel.invokeFunction(\n",
              "                'suggestCharts', [key], {});\n",
              "          } catch (error) {\n",
              "            console.error('Error during call to suggestCharts:', error);\n",
              "          }\n",
              "          quickchartButtonEl.classList.remove('colab-df-spinner');\n",
              "          quickchartButtonEl.classList.add('colab-df-quickchart-complete');\n",
              "        }\n",
              "        (() => {\n",
              "          let quickchartButtonEl =\n",
              "            document.querySelector('#df-1e642db7-9fbb-4d0c-92de-648d67f9bdf4 button');\n",
              "          quickchartButtonEl.style.display =\n",
              "            google.colab.kernel.accessAllowed ? 'block' : 'none';\n",
              "        })();\n",
              "      </script>\n",
              "    </div>\n",
              "\n",
              "    </div>\n",
              "  </div>\n"
            ],
            "application/vnd.google.colaboratory.intrinsic+json": {
              "type": "dataframe",
              "variable_name": "df2",
              "summary": "{\n  \"name\": \"df2\",\n  \"rows\": 44868,\n  \"fields\": [\n    {\n      \"column\": \"text\",\n      \"properties\": {\n        \"dtype\": \"string\",\n        \"num_unique_values\": 44868,\n        \"samples\": [\n          \"Ummm... hey there!  So, like, I know it's kinda cliche, but mistakes are like, super important for success, you know? Like, I mean, think about it. If we didn't make mistakes, we wouldn't learn anything new! \\n\\nI mean, like, think about it. When I was learning how to ride a bike, I fell off like, a million times. But, like, each time I got back up, I got better!  And now I can ride like, a total pro! \\n\\nBut, like, mistakes aren't just for learning how to ride a bike. They can be for, like, anything!  You know, like, in science experiments, sometimes things don't go right, but that's okay! It's like, an opportunity to learn what went wrong and how to fix it! \\n\\nAnd, like, the same thing goes for, like, sports and stuff. Sometimes you might make a mistake, but if you don't get discouraged, you can learn from it and get better! \\n\\nSo, like, the next time you make a mistake, don't be all, like, \\\"Oh no, I'm a total failure!\\\"  Instead, be all, like, \\\"Okay, what can I learn from this? How can I improve?\\\" \\n\\nAnd, like, the more you practice, the better you'll get!  So, like, don't be afraid to make mistakes. Embrace them, because they're, like, totally part of the journey to success! \\n\\nSo, like, yeah. That's my essay.  I hope you liked it!\",\n          \"Dear Principal,\\n\\nAs you may know, many students are A and B students which is above average.\\n\\nBut there are also some students who are average, which is a C. I think that the students may have a grade average of a C to play sports and other activities. One of my reasons is because it is average, in all schools a C is average and many students do have a C it is neither good or bad, its average. Making students not to be able to play any sports or any school activities will put a lot of pressure for students to get good grades, and some kids just cant get above average. Another reason is many students by playing sports and doing activities, it helps them to do better in life. By playing sports a student is doing something that they love, it helps them have better leadership skills, better team work, and overall just a better perspective on life.\\n\\nIf these kids who don't get above average grades are banned from sports and activities, they will not gain those skills that you gain when you are playing on a team, in a club or school activities. Also the students that don't have the above average grades might get encouraged by his/her family, friends, and teammates to study a little harder for a quiz, spend more time on their homework, or maybe just asking someone to help you with the things you are struggling with at school. lastly by kids getting out and playing a sport or other activities they stay healthy, make new friends, and grow closer with their families by similar interest they may have of a sport or other activities.\\n\\nSincerely,\\n\\nSTUDENT_NAME\",\n          \"The cafeteria at our school is an important resource for our students, offering meals that are both nutritious and tasty. With the same lunch menu options served every week, students may become bored with the same meals and make poor food choices. To add more variety to our cafeteria menu, we can provide three new meals each week that incorporate fresh, healthy ingredients. By offering more exciting options, students are more inclined to come to school and make more nutritional food choices. In addition, we can offer more fresh fruits as part of our lunch menu options to provide even healthier meals.\"\n        ],\n        \"semantic_type\": \"\",\n        \"description\": \"\"\n      }\n    },\n    {\n      \"column\": \"label\",\n      \"properties\": {\n        \"dtype\": \"number\",\n        \"std\": 0,\n        \"min\": 0,\n        \"max\": 1,\n        \"num_unique_values\": 2,\n        \"samples\": [\n          1,\n          0\n        ],\n        \"semantic_type\": \"\",\n        \"description\": \"\"\n      }\n    },\n    {\n      \"column\": \"prompt_name\",\n      \"properties\": {\n        \"dtype\": \"category\",\n        \"num_unique_values\": 15,\n        \"samples\": [\n          \"Grades for extracurricular activities\",\n          \"Does the electoral college work?\"\n        ],\n        \"semantic_type\": \"\",\n        \"description\": \"\"\n      }\n    },\n    {\n      \"column\": \"source\",\n      \"properties\": {\n        \"dtype\": \"category\",\n        \"num_unique_values\": 17,\n        \"samples\": [\n          \"persuade_corpus\",\n          \"mistral7binstruct_v2\"\n        ],\n        \"semantic_type\": \"\",\n        \"description\": \"\"\n      }\n    },\n    {\n      \"column\": \"RDizzl3_seven\",\n      \"properties\": {\n        \"dtype\": \"boolean\",\n        \"num_unique_values\": 2,\n        \"samples\": [\n          true,\n          false\n        ],\n        \"semantic_type\": \"\",\n        \"description\": \"\"\n      }\n    }\n  ]\n}"
            }
          },
          "metadata": {},
          "execution_count": 10
        }
      ],
      "source": [
        "df2.head()"
      ]
    },
    {
      "cell_type": "markdown",
      "source": [
        "# Data exploration"
      ],
      "metadata": {
        "id": "YdqqvNYRrDFX"
      }
    },
    {
      "cell_type": "code",
      "execution_count": 11,
      "metadata": {
        "colab": {
          "base_uri": "https://localhost:8080/",
          "height": 415
        },
        "id": "2HVfP9rMh11s",
        "outputId": "b43b5f46-e5ad-4b4c-eee5-fcf5c73694b0"
      },
      "outputs": [
        {
          "output_type": "display_data",
          "data": {
            "text/plain": [
              "<Figure size 1200x400 with 1 Axes>"
            ],
            "image/png": "[encoded data removed]"
          },
          "metadata": {}
        }
      ],
      "source": [
        "# distribution of the  text essays in the original dataset\n",
        "f, ax = plt.subplots(figsize=(12, 4))\n",
        "\n",
        "sns.despine()\n",
        "\n",
        "\n",
        "ax = sns.countplot(\n",
        "    data=df1,\n",
        "    x=\"generated\",\n",
        "    hue=\"generated\",\n",
        "    palette=[\"#3498db\", \"#e74c3c\"],\n",
        "    legend=False\n",
        ")\n",
        "\n",
        "\n",
        "for container in ax.containers:\n",
        "    ax.bar_label(container)\n",
        "\n",
        "\n",
        "ax.set_title(\"Distribution of generated text\", fontsize=14)\n",
        "ax.set_xlabel(\"Label (0 = Human, 1 = LLM)\", fontsize=12)\n",
        "ax.set_ylabel(\"Count\", fontsize=12)\n",
        "\n",
        "plt.show()"
      ]
    },
    {
      "cell_type": "code",
      "execution_count": 12,
      "metadata": {
        "colab": {
          "base_uri": "https://localhost:8080/",
          "height": 408
        },
        "id": "tOYcCxwEh42Z",
        "outputId": "3d50ac08-bb95-490a-b933-702f30ca86dd"
      },
      "outputs": [
        {
          "output_type": "stream",
          "name": "stdout",
          "text": [
            "<class 'pandas.core.frame.DataFrame'>\n",
            "RangeIndex: 44868 entries, 0 to 44867\n",
            "Data columns (total 5 columns):\n",
            " #   Column         Non-Null Count  Dtype \n",
            "---  ------         --------------  ----- \n",
            " 0   text           44868 non-null  object\n",
            " 1   generated      44868 non-null  int64 \n",
            " 2   prompt_name    44868 non-null  object\n",
            " 3   source         44868 non-null  object\n",
            " 4   RDizzl3_seven  44868 non-null  bool  \n",
            "dtypes: bool(1), int64(1), object(3)\n",
            "memory usage: 1.4+ MB\n"
          ]
        },
        {
          "output_type": "execute_result",
          "data": {
            "text/plain": [
              "                                                text  generated  \\\n",
              "0  Phones\\n\\nModern humans today are always on th...          0   \n",
              "1  This essay will explain if drivers should or s...          0   \n",
              "2  Driving while the use of cellular devices\\n\\nT...          0   \n",
              "3  Phones & Driving\\n\\nDrivers should not be able...          0   \n",
              "4  Cell Phone Operation While Driving\\n\\nThe abil...          0   \n",
              "\n",
              "          prompt_name           source  RDizzl3_seven  \n",
              "0  Phones and driving  persuade_corpus          False  \n",
              "1  Phones and driving  persuade_corpus          False  \n",
              "2  Phones and driving  persuade_corpus          False  \n",
              "3  Phones and driving  persuade_corpus          False  \n",
              "4  Phones and driving  persuade_corpus          False  "
            ],
            "text/html": [
              "\n",
              "  <div id=\"df-622e6607-a92a-44e8-ba58-f26de9d85863\" class=\"colab-df-container\">\n",
              "    <div>\n",
              "<style scoped>\n",
              "    .dataframe tbody tr th:only-of-type {\n",
              "        vertical-align: middle;\n",
              "    }\n",
              "\n",
              "    .dataframe tbody tr th {\n",
              "        vertical-align: top;\n",
              "    }\n",
              "\n",
              "    .dataframe thead th {\n",
              "        text-align: right;\n",
              "    }\n",
              "</style>\n",
              "<table border=\"1\" class=\"dataframe\">\n",
              "  <thead>\n",
              "    <tr style=\"text-align: right;\">\n",
              "      <th></th>\n",
              "      <th>text</th>\n",
              "      <th>generated</th>\n",
              "      <th>prompt_name</th>\n",
              "      <th>source</th>\n",
              "      <th>RDizzl3_seven</th>\n",
              "    </tr>\n",
              "  </thead>\n",
              "  <tbody>\n",
              "    <tr>\n",
              "      <th>0</th>\n",
              "      <td>Phones\\n\\nModern humans today are always on th...</td>\n",
              "      <td>0</td>\n",
              "      <td>Phones and driving</td>\n",
              "      <td>persuade_corpus</td>\n",
              "      <td>False</td>\n",
              "    </tr>\n",
              "    <tr>\n",
              "      <th>1</th>\n",
              "      <td>This essay will explain if drivers should or s...</td>\n",
              "      <td>0</td>\n",
              "      <td>Phones and driving</td>\n",
              "      <td>persuade_corpus</td>\n",
              "      <td>False</td>\n",
              "    </tr>\n",
              "    <tr>\n",
              "      <th>2</th>\n",
              "      <td>Driving while the use of cellular devices\\n\\nT...</td>\n",
              "      <td>0</td>\n",
              "      <td>Phones and driving</td>\n",
              "      <td>persuade_corpus</td>\n",
              "      <td>False</td>\n",
              "    </tr>\n",
              "    <tr>\n",
              "      <th>3</th>\n",
              "      <td>Phones &amp; Driving\\n\\nDrivers should not be able...</td>\n",
              "      <td>0</td>\n",
              "      <td>Phones and driving</td>\n",
              "      <td>persuade_corpus</td>\n",
              "      <td>False</td>\n",
              "    </tr>\n",
              "    <tr>\n",
              "      <th>4</th>\n",
              "      <td>Cell Phone Operation While Driving\\n\\nThe abil...</td>\n",
              "      <td>0</td>\n",
              "      <td>Phones and driving</td>\n",
              "      <td>persuade_corpus</td>\n",
              "      <td>False</td>\n",
              "    </tr>\n",
              "  </tbody>\n",
              "</table>\n",
              "</div>\n",
              "    <div class=\"colab-df-buttons\">\n",
              "\n",
              "  <div class=\"colab-df-container\">\n",
              "    <button class=\"colab-df-convert\" onclick=\"convertToInteractive('df-622e6607-a92a-44e8-ba58-f26de9d85863')\"\n",
              "            title=\"Convert this dataframe to an interactive table.\"\n",
              "            style=\"display:none;\">\n",
              "\n",
              "  <svg xmlns=\"http://www.w3.org/2000/svg\" height=\"24px\" viewBox=\"0 -960 960 960\">\n",
              "    <path d=\"M120-120v-720h720v720H120Zm60-500h600v-160H180v160Zm220 220h160v-160H400v160Zm0 220h160v-160H400v160ZM180-400h160v-160H180v160Zm440 0h160v-160H620v160ZM180-180h160v-160H180v160Zm440 0h160v-160H620v160Z\"/>\n",
              "  </svg>\n",
              "    </button>\n",
              "\n",
              "  <style>\n",
              "    .colab-df-container {\n",
              "      display:flex;\n",
              "      gap: 12px;\n",
              "    }\n",
              "\n",
              "    .colab-df-convert {\n",
              "      background-color: #E8F0FE;\n",
              "      border: none;\n",
              "      border-radius: 50%;\n",
              "      cursor: pointer;\n",
              "      display: none;\n",
              "      fill: #1967D2;\n",
              "      height: 32px;\n",
              "      padding: 0 0 0 0;\n",
              "      width: 32px;\n",
              "    }\n",
              "\n",
              "    .colab-df-convert:hover {\n",
              "      background-color: #E2EBFA;\n",
              "      box-shadow: 0px 1px 2px rgba(60, 64, 67, 0.3), 0px 1px 3px 1px rgba(60, 64, 67, 0.15);\n",
              "      fill: #174EA6;\n",
              "    }\n",
              "\n",
              "    .colab-df-buttons div {\n",
              "      margin-bottom: 4px;\n",
              "    }\n",
              "\n",
              "    [theme=dark] .colab-df-convert {\n",
              "      background-color: #3B4455;\n",
              "      fill: #D2E3FC;\n",
              "    }\n",
              "\n",
              "    [theme=dark] .colab-df-convert:hover {\n",
              "      background-color: #434B5C;\n",
              "      box-shadow: 0px 1px 3px 1px rgba(0, 0, 0, 0.15);\n",
              "      filter: drop-shadow(0px 1px 2px rgba(0, 0, 0, 0.3));\n",
              "      fill: #FFFFFF;\n",
              "    }\n",
              "  </style>\n",
              "\n",
              "    <script>\n",
              "      const buttonEl =\n",
              "        document.querySelector('#df-622e6607-a92a-44e8-ba58-f26de9d85863 button.colab-df-convert');\n",
              "      buttonEl.style.display =\n",
              "        google.colab.kernel.accessAllowed ? 'block' : 'none';\n",
              "\n",
              "      async function convertToInteractive(key) {\n",
              "        const element = document.querySelector('#df-622e6607-a92a-44e8-ba58-f26de9d85863');\n",
              "        const dataTable =\n",
              "          await google.colab.kernel.invokeFunction('convertToInteractive',\n",
              "                                                    [key], {});\n",
              "        if (!dataTable) return;\n",
              "\n",
              "        const docLinkHtml = 'Like what you see? Visit the ' +\n",
              "          '<a target=\"_blank\" href=https://colab.research.google.com/notebooks/data_table.ipynb>data table notebook</a>'\n",
              "          + ' to learn more about interactive tables.';\n",
              "        element.innerHTML = '';\n",
              "        dataTable['output_type'] = 'display_data';\n",
              "        await google.colab.output.renderOutput(dataTable, element);\n",
              "        const docLink = document.createElement('div');\n",
              "        docLink.innerHTML = docLinkHtml;\n",
              "        element.appendChild(docLink);\n",
              "      }\n",
              "    </script>\n",
              "  </div>\n",
              "\n",
              "\n",
              "    <div id=\"df-0e22bcb8-0392-42dc-b982-0691374de1b9\">\n",
              "      <button class=\"colab-df-quickchart\" onclick=\"quickchart('df-0e22bcb8-0392-42dc-b982-0691374de1b9')\"\n",
              "                title=\"Suggest charts\"\n",
              "                style=\"display:none;\">\n",
              "\n",
              "<svg xmlns=\"http://www.w3.org/2000/svg\" height=\"24px\"viewBox=\"0 0 24 24\"\n",
              "     width=\"24px\">\n",
              "    <g>\n",
              "        <path d=\"M19 3H5c-1.1 0-2 .9-2 2v14c0 1.1.9 2 2 2h14c1.1 0 2-.9 2-2V5c0-1.1-.9-2-2-2zM9 17H7v-7h2v7zm4 0h-2V7h2v10zm4 0h-2v-4h2v4z\"/>\n",
              "    </g>\n",
              "</svg>\n",
              "      </button>\n",
              "\n",
              "<style>\n",
              "  .colab-df-quickchart {\n",
              "      --bg-color: #E8F0FE;\n",
              "      --fill-color: #1967D2;\n",
              "      --hover-bg-color: #E2EBFA;\n",
              "      --hover-fill-color: #174EA6;\n",
              "      --disabled-fill-color: #AAA;\n",
              "      --disabled-bg-color: #DDD;\n",
              "  }\n",
              "\n",
              "  [theme=dark] .colab-df-quickchart {\n",
              "      --bg-color: #3B4455;\n",
              "      --fill-color: #D2E3FC;\n",
              "      --hover-bg-color: #434B5C;\n",
              "      --hover-fill-color: #FFFFFF;\n",
              "      --disabled-bg-color: #3B4455;\n",
              "      --disabled-fill-color: #666;\n",
              "  }\n",
              "\n",
              "  .colab-df-quickchart {\n",
              "    background-color: var(--bg-color);\n",
              "    border: none;\n",
              "    border-radius: 50%;\n",
              "    cursor: pointer;\n",
              "    display: none;\n",
              "    fill: var(--fill-color);\n",
              "    height: 32px;\n",
              "    padding: 0;\n",
              "    width: 32px;\n",
              "  }\n",
              "\n",
              "  .colab-df-quickchart:hover {\n",
              "    background-color: var(--hover-bg-color);\n",
              "    box-shadow: 0 1px 2px rgba(60, 64, 67, 0.3), 0 1px 3px 1px rgba(60, 64, 67, 0.15);\n",
              "    fill: var(--button-hover-fill-color);\n",
              "  }\n",
              "\n",
              "  .colab-df-quickchart-complete:disabled,\n",
              "  .colab-df-quickchart-complete:disabled:hover {\n",
              "    background-color: var(--disabled-bg-color);\n",
              "    fill: var(--disabled-fill-color);\n",
              "    box-shadow: none;\n",
              "  }\n",
              "\n",
              "  .colab-df-spinner {\n",
              "    border: 2px solid var(--fill-color);\n",
              "    border-color: transparent;\n",
              "    border-bottom-color: var(--fill-color);\n",
              "    animation:\n",
              "      spin 1s steps(1) infinite;\n",
              "  }\n",
              "\n",
              "  @keyframes spin {\n",
              "    0% {\n",
              "      border-color: transparent;\n",
              "      border-bottom-color: var(--fill-color);\n",
              "      border-left-color: var(--fill-color);\n",
              "    }\n",
              "    20% {\n",
              "      border-color: transparent;\n",
              "      border-left-color: var(--fill-color);\n",
              "      border-top-color: var(--fill-color);\n",
              "    }\n",
              "    30% {\n",
              "      border-color: transparent;\n",
              "      border-left-color: var(--fill-color);\n",
              "      border-top-color: var(--fill-color);\n",
              "      border-right-color: var(--fill-color);\n",
              "    }\n",
              "    40% {\n",
              "      border-color: transparent;\n",
              "      border-right-color: var(--fill-color);\n",
              "      border-top-color: var(--fill-color);\n",
              "    }\n",
              "    60% {\n",
              "      border-color: transparent;\n",
              "      border-right-color: var(--fill-color);\n",
              "    }\n",
              "    80% {\n",
              "      border-color: transparent;\n",
              "      border-right-color: var(--fill-color);\n",
              "      border-bottom-color: var(--fill-color);\n",
              "    }\n",
              "    90% {\n",
              "      border-color: transparent;\n",
              "      border-bottom-color: var(--fill-color);\n",
              "    }\n",
              "  }\n",
              "</style>\n",
              "\n",
              "      <script>\n",
              "        async function quickchart(key) {\n",
              "          const quickchartButtonEl =\n",
              "            document.querySelector('#' + key + ' button');\n",
              "          quickchartButtonEl.disabled = true;  // To prevent multiple clicks.\n",
              "          quickchartButtonEl.classList.add('colab-df-spinner');\n",
              "          try {\n",
              "            const charts = await google.colab.kernel.invokeFunction(\n",
              "                'suggestCharts', [key], {});\n",
              "          } catch (error) {\n",
              "            console.error('Error during call to suggestCharts:', error);\n",
              "          }\n",
              "          quickchartButtonEl.classList.remove('colab-df-spinner');\n",
              "          quickchartButtonEl.classList.add('colab-df-quickchart-complete');\n",
              "        }\n",
              "        (() => {\n",
              "          let quickchartButtonEl =\n",
              "            document.querySelector('#df-0e22bcb8-0392-42dc-b982-0691374de1b9 button');\n",
              "          quickchartButtonEl.style.display =\n",
              "            google.colab.kernel.accessAllowed ? 'block' : 'none';\n",
              "        })();\n",
              "      </script>\n",
              "    </div>\n",
              "\n",
              "    </div>\n",
              "  </div>\n"
            ],
            "application/vnd.google.colaboratory.intrinsic+json": {
              "type": "dataframe",
              "variable_name": "df2",
              "summary": "{\n  \"name\": \"df2\",\n  \"rows\": 44868,\n  \"fields\": [\n    {\n      \"column\": \"text\",\n      \"properties\": {\n        \"dtype\": \"string\",\n        \"num_unique_values\": 44868,\n        \"samples\": [\n          \"Ummm... hey there!  So, like, I know it's kinda cliche, but mistakes are like, super important for success, you know? Like, I mean, think about it. If we didn't make mistakes, we wouldn't learn anything new! \\n\\nI mean, like, think about it. When I was learning how to ride a bike, I fell off like, a million times. But, like, each time I got back up, I got better!  And now I can ride like, a total pro! \\n\\nBut, like, mistakes aren't just for learning how to ride a bike. They can be for, like, anything!  You know, like, in science experiments, sometimes things don't go right, but that's okay! It's like, an opportunity to learn what went wrong and how to fix it! \\n\\nAnd, like, the same thing goes for, like, sports and stuff. Sometimes you might make a mistake, but if you don't get discouraged, you can learn from it and get better! \\n\\nSo, like, the next time you make a mistake, don't be all, like, \\\"Oh no, I'm a total failure!\\\"  Instead, be all, like, \\\"Okay, what can I learn from this? How can I improve?\\\" \\n\\nAnd, like, the more you practice, the better you'll get!  So, like, don't be afraid to make mistakes. Embrace them, because they're, like, totally part of the journey to success! \\n\\nSo, like, yeah. That's my essay.  I hope you liked it!\",\n          \"Dear Principal,\\n\\nAs you may know, many students are A and B students which is above average.\\n\\nBut there are also some students who are average, which is a C. I think that the students may have a grade average of a C to play sports and other activities. One of my reasons is because it is average, in all schools a C is average and many students do have a C it is neither good or bad, its average. Making students not to be able to play any sports or any school activities will put a lot of pressure for students to get good grades, and some kids just cant get above average. Another reason is many students by playing sports and doing activities, it helps them to do better in life. By playing sports a student is doing something that they love, it helps them have better leadership skills, better team work, and overall just a better perspective on life.\\n\\nIf these kids who don't get above average grades are banned from sports and activities, they will not gain those skills that you gain when you are playing on a team, in a club or school activities. Also the students that don't have the above average grades might get encouraged by his/her family, friends, and teammates to study a little harder for a quiz, spend more time on their homework, or maybe just asking someone to help you with the things you are struggling with at school. lastly by kids getting out and playing a sport or other activities they stay healthy, make new friends, and grow closer with their families by similar interest they may have of a sport or other activities.\\n\\nSincerely,\\n\\nSTUDENT_NAME\",\n          \"The cafeteria at our school is an important resource for our students, offering meals that are both nutritious and tasty. With the same lunch menu options served every week, students may become bored with the same meals and make poor food choices. To add more variety to our cafeteria menu, we can provide three new meals each week that incorporate fresh, healthy ingredients. By offering more exciting options, students are more inclined to come to school and make more nutritional food choices. In addition, we can offer more fresh fruits as part of our lunch menu options to provide even healthier meals.\"\n        ],\n        \"semantic_type\": \"\",\n        \"description\": \"\"\n      }\n    },\n    {\n      \"column\": \"generated\",\n      \"properties\": {\n        \"dtype\": \"number\",\n        \"std\": 0,\n        \"min\": 0,\n        \"max\": 1,\n        \"num_unique_values\": 2,\n        \"samples\": [\n          1,\n          0\n        ],\n        \"semantic_type\": \"\",\n        \"description\": \"\"\n      }\n    },\n    {\n      \"column\": \"prompt_name\",\n      \"properties\": {\n        \"dtype\": \"category\",\n        \"num_unique_values\": 15,\n        \"samples\": [\n          \"Grades for extracurricular activities\",\n          \"Does the electoral college work?\"\n        ],\n        \"semantic_type\": \"\",\n        \"description\": \"\"\n      }\n    },\n    {\n      \"column\": \"source\",\n      \"properties\": {\n        \"dtype\": \"category\",\n        \"num_unique_values\": 17,\n        \"samples\": [\n          \"persuade_corpus\",\n          \"mistral7binstruct_v2\"\n        ],\n        \"semantic_type\": \"\",\n        \"description\": \"\"\n      }\n    },\n    {\n      \"column\": \"RDizzl3_seven\",\n      \"properties\": {\n        \"dtype\": \"boolean\",\n        \"num_unique_values\": 2,\n        \"samples\": [\n          true,\n          false\n        ],\n        \"semantic_type\": \"\",\n        \"description\": \"\"\n      }\n    }\n  ]\n}"
            }
          },
          "metadata": {},
          "execution_count": 12
        }
      ],
      "source": [
        "df2.rename(columns = {\"label\":\"generated\"}, inplace=True)\n",
        "\n",
        "df2.info()\n",
        "df2.head()"
      ]
    },
    {
      "cell_type": "code",
      "execution_count": 13,
      "metadata": {
        "colab": {
          "base_uri": "https://localhost:8080/",
          "height": 415
        },
        "id": "9vA7XBdLh8x9",
        "outputId": "a6a712ac-ca93-4982-e90b-d3935dc7b434"
      },
      "outputs": [
        {
          "output_type": "display_data",
          "data": {
            "text/plain": [
              "<Figure size 1200x400 with 1 Axes>"
            ],
            "image/png": "[encoded data removed]"
          },
          "metadata": {}
        }
      ],
      "source": [
        "\n",
        "# distribution of text essays in the extended dataset\n",
        "f, ax = plt.subplots(figsize=(12, 4))\n",
        "\n",
        "sns.despine()\n",
        "\n",
        "ax = sns.countplot(\n",
        "    data=df2,\n",
        "    x=\"generated\",\n",
        "    hue=\"generated\",        #\n",
        "    palette=[\"#2ecc71\", \"#e74c3c\"],\n",
        "    legend=False\n",
        ")\n",
        "\n",
        "\n",
        "for container in ax.containers:\n",
        "    ax.bar_label(container)\n",
        "\n",
        "\n",
        "ax.set_title(\"Distribution of generated text (Extended dataset)\", fontsize=14)\n",
        "ax.set_xlabel(\"Label (0 = Human, 1 = LLM)\", fontsize=12)\n",
        "ax.set_ylabel(\"Count\", fontsize=12)\n",
        "\n",
        "plt.show()\n"
      ]
    },
    {
      "cell_type": "markdown",
      "metadata": {
        "id": "3BmbzJBiiAYC"
      },
      "source": [
        "Merging datasets"
      ]
    },
    {
      "cell_type": "code",
      "execution_count": 14,
      "metadata": {
        "colab": {
          "base_uri": "https://localhost:8080/"
        },
        "id": "FzvRL3_CiCq5",
        "outputId": "e89e2c73-f80d-4d51-9e02-bc62ca222515"
      },
      "outputs": [
        {
          "output_type": "stream",
          "name": "stdout",
          "text": [
            "<class 'pandas.core.frame.DataFrame'>\n",
            "Index: 46246 entries, 0 to 1377\n",
            "Data columns (total 2 columns):\n",
            " #   Column     Non-Null Count  Dtype \n",
            "---  ------     --------------  ----- \n",
            " 0   text       46246 non-null  object\n",
            " 1   generated  46246 non-null  int64 \n",
            "dtypes: int64(1), object(1)\n",
            "memory usage: 1.1+ MB\n"
          ]
        }
      ],
      "source": [
        "df_final = pd.concat([df2[[\"text\", \"generated\"]], df1[[\"text\", \"generated\"]]])\n",
        "\n",
        "df_final.info()"
      ]
    },
    {
      "cell_type": "code",
      "execution_count": 15,
      "metadata": {
        "id": "z-1AeRU6iFIE"
      },
      "outputs": [],
      "source": [
        "# Save the concatenated df to a csv file\n",
        "df_final.to_csv('concatenated_dataset.csv', index=False)\n"
      ]
    },
    {
      "cell_type": "code",
      "execution_count": 16,
      "metadata": {
        "colab": {
          "base_uri": "https://localhost:8080/"
        },
        "id": "c1P9vJxViFuu",
        "outputId": "3b1e5cfa-5f19-41d4-82f4-5f2cd46f27c8"
      },
      "outputs": [
        {
          "output_type": "stream",
          "name": "stdout",
          "text": [
            "                                                text  generated\n",
            "0  Phones\\n\\nModern humans today are always on th...          0\n",
            "1  This essay will explain if drivers should or s...          0\n",
            "2  Driving while the use of cellular devices\\n\\nT...          0\n",
            "3  Phones & Driving\\n\\nDrivers should not be able...          0\n",
            "4  Cell Phone Operation While Driving\\n\\nThe abil...          0\n"
          ]
        }
      ],
      "source": [
        "# Read it to verify\n",
        "df_check = pd.read_csv('concatenated_dataset.csv')\n",
        "print(df_check.head())\n"
      ]
    },
    {
      "cell_type": "code",
      "execution_count": 17,
      "metadata": {
        "colab": {
          "base_uri": "https://localhost:8080/"
        },
        "id": "YMVhs8DSiK6t",
        "outputId": "13559e83-992b-4cd4-f65f-515fc0a65f8c"
      },
      "outputs": [
        {
          "output_type": "execute_result",
          "data": {
            "text/plain": [
              "(46246, 2)"
            ]
          },
          "metadata": {},
          "execution_count": 17
        }
      ],
      "source": [
        "df_final.shape"
      ]
    },
    {
      "cell_type": "code",
      "execution_count": 18,
      "metadata": {
        "colab": {
          "base_uri": "https://localhost:8080/",
          "height": 204
        },
        "id": "7no7olPZiLjw",
        "outputId": "5c37073e-c4fa-4f47-b1a1-fd8db3e40c10"
      },
      "outputs": [
        {
          "output_type": "execute_result",
          "data": {
            "text/plain": [
              "                                                text  generated\n",
              "0  Phones\\n\\nModern humans today are always on th...          0\n",
              "1  This essay will explain if drivers should or s...          0\n",
              "2  Driving while the use of cellular devices\\n\\nT...          0\n",
              "3  Phones & Driving\\n\\nDrivers should not be able...          0\n",
              "4  Cell Phone Operation While Driving\\n\\nThe abil...          0"
            ],
            "text/html": [
              "\n",
              "  <div id=\"df-cacbc50c-14f9-47ac-8eb4-32b33e45368b\" class=\"colab-df-container\">\n",
              "    <div>\n",
              "<style scoped>\n",
              "    .dataframe tbody tr th:only-of-type {\n",
              "        vertical-align: middle;\n",
              "    }\n",
              "\n",
              "    .dataframe tbody tr th {\n",
              "        vertical-align: top;\n",
              "    }\n",
              "\n",
              "    .dataframe thead th {\n",
              "        text-align: right;\n",
              "    }\n",
              "</style>\n",
              "<table border=\"1\" class=\"dataframe\">\n",
              "  <thead>\n",
              "    <tr style=\"text-align: right;\">\n",
              "      <th></th>\n",
              "      <th>text</th>\n",
              "      <th>generated</th>\n",
              "    </tr>\n",
              "  </thead>\n",
              "  <tbody>\n",
              "    <tr>\n",
              "      <th>0</th>\n",
              "      <td>Phones\\n\\nModern humans today are always on th...</td>\n",
              "      <td>0</td>\n",
              "    </tr>\n",
              "    <tr>\n",
              "      <th>1</th>\n",
              "      <td>This essay will explain if drivers should or s...</td>\n",
              "      <td>0</td>\n",
              "    </tr>\n",
              "    <tr>\n",
              "      <th>2</th>\n",
              "      <td>Driving while the use of cellular devices\\n\\nT...</td>\n",
              "      <td>0</td>\n",
              "    </tr>\n",
              "    <tr>\n",
              "      <th>3</th>\n",
              "      <td>Phones &amp; Driving\\n\\nDrivers should not be able...</td>\n",
              "      <td>0</td>\n",
              "    </tr>\n",
              "    <tr>\n",
              "      <th>4</th>\n",
              "      <td>Cell Phone Operation While Driving\\n\\nThe abil...</td>\n",
              "      <td>0</td>\n",
              "    </tr>\n",
              "  </tbody>\n",
              "</table>\n",
              "</div>\n",
              "    <div class=\"colab-df-buttons\">\n",
              "\n",
              "  <div class=\"colab-df-container\">\n",
              "    <button class=\"colab-df-convert\" onclick=\"convertToInteractive('df-cacbc50c-14f9-47ac-8eb4-32b33e45368b')\"\n",
              "            title=\"Convert this dataframe to an interactive table.\"\n",
              "            style=\"display:none;\">\n",
              "\n",
              "  <svg xmlns=\"http://www.w3.org/2000/svg\" height=\"24px\" viewBox=\"0 -960 960 960\">\n",
              "    <path d=\"M120-120v-720h720v720H120Zm60-500h600v-160H180v160Zm220 220h160v-160H400v160Zm0 220h160v-160H400v160ZM180-400h160v-160H180v160Zm440 0h160v-160H620v160ZM180-180h160v-160H180v160Zm440 0h160v-160H620v160Z\"/>\n",
              "  </svg>\n",
              "    </button>\n",
              "\n",
              "  <style>\n",
              "    .colab-df-container {\n",
              "      display:flex;\n",
              "      gap: 12px;\n",
              "    }\n",
              "\n",
              "    .colab-df-convert {\n",
              "      background-color: #E8F0FE;\n",
              "      border: none;\n",
              "      border-radius: 50%;\n",
              "      cursor: pointer;\n",
              "      display: none;\n",
              "      fill: #1967D2;\n",
              "      height: 32px;\n",
              "      padding: 0 0 0 0;\n",
              "      width: 32px;\n",
              "    }\n",
              "\n",
              "    .colab-df-convert:hover {\n",
              "      background-color: #E2EBFA;\n",
              "      box-shadow: 0px 1px 2px rgba(60, 64, 67, 0.3), 0px 1px 3px 1px rgba(60, 64, 67, 0.15);\n",
              "      fill: #174EA6;\n",
              "    }\n",
              "\n",
              "    .colab-df-buttons div {\n",
              "      margin-bottom: 4px;\n",
              "    }\n",
              "\n",
              "    [theme=dark] .colab-df-convert {\n",
              "      background-color: #3B4455;\n",
              "      fill: #D2E3FC;\n",
              "    }\n",
              "\n",
              "    [theme=dark] .colab-df-convert:hover {\n",
              "      background-color: #434B5C;\n",
              "      box-shadow: 0px 1px 3px 1px rgba(0, 0, 0, 0.15);\n",
              "      filter: drop-shadow(0px 1px 2px rgba(0, 0, 0, 0.3));\n",
              "      fill: #FFFFFF;\n",
              "    }\n",
              "  </style>\n",
              "\n",
              "    <script>\n",
              "      const buttonEl =\n",
              "        document.querySelector('#df-cacbc50c-14f9-47ac-8eb4-32b33e45368b button.colab-df-convert');\n",
              "      buttonEl.style.display =\n",
              "        google.colab.kernel.accessAllowed ? 'block' : 'none';\n",
              "\n",
              "      async function convertToInteractive(key) {\n",
              "        const element = document.querySelector('#df-cacbc50c-14f9-47ac-8eb4-32b33e45368b');\n",
              "        const dataTable =\n",
              "          await google.colab.kernel.invokeFunction('convertToInteractive',\n",
              "                                                    [key], {});\n",
              "        if (!dataTable) return;\n",
              "\n",
              "        const docLinkHtml = 'Like what you see? Visit the ' +\n",
              "          '<a target=\"_blank\" href=https://colab.research.google.com/notebooks/data_table.ipynb>data table notebook</a>'\n",
              "          + ' to learn more about interactive tables.';\n",
              "        element.innerHTML = '';\n",
              "        dataTable['output_type'] = 'display_data';\n",
              "        await google.colab.output.renderOutput(dataTable, element);\n",
              "        const docLink = document.createElement('div');\n",
              "        docLink.innerHTML = docLinkHtml;\n",
              "        element.appendChild(docLink);\n",
              "      }\n",
              "    </script>\n",
              "  </div>\n",
              "\n",
              "\n",
              "    <div id=\"df-7ca9d0c2-bc5f-4b32-92e8-22aaa78725f7\">\n",
              "      <button class=\"colab-df-quickchart\" onclick=\"quickchart('df-7ca9d0c2-bc5f-4b32-92e8-22aaa78725f7')\"\n",
              "                title=\"Suggest charts\"\n",
              "                style=\"display:none;\">\n",
              "\n",
              "<svg xmlns=\"http://www.w3.org/2000/svg\" height=\"24px\"viewBox=\"0 0 24 24\"\n",
              "     width=\"24px\">\n",
              "    <g>\n",
              "        <path d=\"M19 3H5c-1.1 0-2 .9-2 2v14c0 1.1.9 2 2 2h14c1.1 0 2-.9 2-2V5c0-1.1-.9-2-2-2zM9 17H7v-7h2v7zm4 0h-2V7h2v10zm4 0h-2v-4h2v4z\"/>\n",
              "    </g>\n",
              "</svg>\n",
              "      </button>\n",
              "\n",
              "<style>\n",
              "  .colab-df-quickchart {\n",
              "      --bg-color: #E8F0FE;\n",
              "      --fill-color: #1967D2;\n",
              "      --hover-bg-color: #E2EBFA;\n",
              "      --hover-fill-color: #174EA6;\n",
              "      --disabled-fill-color: #AAA;\n",
              "      --disabled-bg-color: #DDD;\n",
              "  }\n",
              "\n",
              "  [theme=dark] .colab-df-quickchart {\n",
              "      --bg-color: #3B4455;\n",
              "      --fill-color: #D2E3FC;\n",
              "      --hover-bg-color: #434B5C;\n",
              "      --hover-fill-color: #FFFFFF;\n",
              "      --disabled-bg-color: #3B4455;\n",
              "      --disabled-fill-color: #666;\n",
              "  }\n",
              "\n",
              "  .colab-df-quickchart {\n",
              "    background-color: var(--bg-color);\n",
              "    border: none;\n",
              "    border-radius: 50%;\n",
              "    cursor: pointer;\n",
              "    display: none;\n",
              "    fill: var(--fill-color);\n",
              "    height: 32px;\n",
              "    padding: 0;\n",
              "    width: 32px;\n",
              "  }\n",
              "\n",
              "  .colab-df-quickchart:hover {\n",
              "    background-color: var(--hover-bg-color);\n",
              "    box-shadow: 0 1px 2px rgba(60, 64, 67, 0.3), 0 1px 3px 1px rgba(60, 64, 67, 0.15);\n",
              "    fill: var(--button-hover-fill-color);\n",
              "  }\n",
              "\n",
              "  .colab-df-quickchart-complete:disabled,\n",
              "  .colab-df-quickchart-complete:disabled:hover {\n",
              "    background-color: var(--disabled-bg-color);\n",
              "    fill: var(--disabled-fill-color);\n",
              "    box-shadow: none;\n",
              "  }\n",
              "\n",
              "  .colab-df-spinner {\n",
              "    border: 2px solid var(--fill-color);\n",
              "    border-color: transparent;\n",
              "    border-bottom-color: var(--fill-color);\n",
              "    animation:\n",
              "      spin 1s steps(1) infinite;\n",
              "  }\n",
              "\n",
              "  @keyframes spin {\n",
              "    0% {\n",
              "      border-color: transparent;\n",
              "      border-bottom-color: var(--fill-color);\n",
              "      border-left-color: var(--fill-color);\n",
              "    }\n",
              "    20% {\n",
              "      border-color: transparent;\n",
              "      border-left-color: var(--fill-color);\n",
              "      border-top-color: var(--fill-color);\n",
              "    }\n",
              "    30% {\n",
              "      border-color: transparent;\n",
              "      border-left-color: var(--fill-color);\n",
              "      border-top-color: var(--fill-color);\n",
              "      border-right-color: var(--fill-color);\n",
              "    }\n",
              "    40% {\n",
              "      border-color: transparent;\n",
              "      border-right-color: var(--fill-color);\n",
              "      border-top-color: var(--fill-color);\n",
              "    }\n",
              "    60% {\n",
              "      border-color: transparent;\n",
              "      border-right-color: var(--fill-color);\n",
              "    }\n",
              "    80% {\n",
              "      border-color: transparent;\n",
              "      border-right-color: var(--fill-color);\n",
              "      border-bottom-color: var(--fill-color);\n",
              "    }\n",
              "    90% {\n",
              "      border-color: transparent;\n",
              "      border-bottom-color: var(--fill-color);\n",
              "    }\n",
              "  }\n",
              "</style>\n",
              "\n",
              "      <script>\n",
              "        async function quickchart(key) {\n",
              "          const quickchartButtonEl =\n",
              "            document.querySelector('#' + key + ' button');\n",
              "          quickchartButtonEl.disabled = true;  // To prevent multiple clicks.\n",
              "          quickchartButtonEl.classList.add('colab-df-spinner');\n",
              "          try {\n",
              "            const charts = await google.colab.kernel.invokeFunction(\n",
              "                'suggestCharts', [key], {});\n",
              "          } catch (error) {\n",
              "            console.error('Error during call to suggestCharts:', error);\n",
              "          }\n",
              "          quickchartButtonEl.classList.remove('colab-df-spinner');\n",
              "          quickchartButtonEl.classList.add('colab-df-quickchart-complete');\n",
              "        }\n",
              "        (() => {\n",
              "          let quickchartButtonEl =\n",
              "            document.querySelector('#df-7ca9d0c2-bc5f-4b32-92e8-22aaa78725f7 button');\n",
              "          quickchartButtonEl.style.display =\n",
              "            google.colab.kernel.accessAllowed ? 'block' : 'none';\n",
              "        })();\n",
              "      </script>\n",
              "    </div>\n",
              "\n",
              "    </div>\n",
              "  </div>\n"
            ],
            "application/vnd.google.colaboratory.intrinsic+json": {
              "type": "dataframe",
              "variable_name": "df_final",
              "summary": "{\n  \"name\": \"df_final\",\n  \"rows\": 46246,\n  \"fields\": [\n    {\n      \"column\": \"text\",\n      \"properties\": {\n        \"dtype\": \"string\",\n        \"num_unique_values\": 44868,\n        \"samples\": [\n          \"Ummm... hey there!  So, like, I know it's kinda cliche, but mistakes are like, super important for success, you know? Like, I mean, think about it. If we didn't make mistakes, we wouldn't learn anything new! \\n\\nI mean, like, think about it. When I was learning how to ride a bike, I fell off like, a million times. But, like, each time I got back up, I got better!  And now I can ride like, a total pro! \\n\\nBut, like, mistakes aren't just for learning how to ride a bike. They can be for, like, anything!  You know, like, in science experiments, sometimes things don't go right, but that's okay! It's like, an opportunity to learn what went wrong and how to fix it! \\n\\nAnd, like, the same thing goes for, like, sports and stuff. Sometimes you might make a mistake, but if you don't get discouraged, you can learn from it and get better! \\n\\nSo, like, the next time you make a mistake, don't be all, like, \\\"Oh no, I'm a total failure!\\\"  Instead, be all, like, \\\"Okay, what can I learn from this? How can I improve?\\\" \\n\\nAnd, like, the more you practice, the better you'll get!  So, like, don't be afraid to make mistakes. Embrace them, because they're, like, totally part of the journey to success! \\n\\nSo, like, yeah. That's my essay.  I hope you liked it!\",\n          \"Dear Principal,\\n\\nAs you may know, many students are A and B students which is above average.\\n\\nBut there are also some students who are average, which is a C. I think that the students may have a grade average of a C to play sports and other activities. One of my reasons is because it is average, in all schools a C is average and many students do have a C it is neither good or bad, its average. Making students not to be able to play any sports or any school activities will put a lot of pressure for students to get good grades, and some kids just cant get above average. Another reason is many students by playing sports and doing activities, it helps them to do better in life. By playing sports a student is doing something that they love, it helps them have better leadership skills, better team work, and overall just a better perspective on life.\\n\\nIf these kids who don't get above average grades are banned from sports and activities, they will not gain those skills that you gain when you are playing on a team, in a club or school activities. Also the students that don't have the above average grades might get encouraged by his/her family, friends, and teammates to study a little harder for a quiz, spend more time on their homework, or maybe just asking someone to help you with the things you are struggling with at school. lastly by kids getting out and playing a sport or other activities they stay healthy, make new friends, and grow closer with their families by similar interest they may have of a sport or other activities.\\n\\nSincerely,\\n\\nSTUDENT_NAME\",\n          \"The cafeteria at our school is an important resource for our students, offering meals that are both nutritious and tasty. With the same lunch menu options served every week, students may become bored with the same meals and make poor food choices. To add more variety to our cafeteria menu, we can provide three new meals each week that incorporate fresh, healthy ingredients. By offering more exciting options, students are more inclined to come to school and make more nutritional food choices. In addition, we can offer more fresh fruits as part of our lunch menu options to provide even healthier meals.\"\n        ],\n        \"semantic_type\": \"\",\n        \"description\": \"\"\n      }\n    },\n    {\n      \"column\": \"generated\",\n      \"properties\": {\n        \"dtype\": \"number\",\n        \"std\": 0,\n        \"min\": 0,\n        \"max\": 1,\n        \"num_unique_values\": 2,\n        \"samples\": [\n          1,\n          0\n        ],\n        \"semantic_type\": \"\",\n        \"description\": \"\"\n      }\n    }\n  ]\n}"
            }
          },
          "metadata": {},
          "execution_count": 18
        }
      ],
      "source": [
        "df_final.head()"
      ]
    },
    {
      "cell_type": "code",
      "execution_count": 19,
      "metadata": {
        "colab": {
          "base_uri": "https://localhost:8080/",
          "height": 415
        },
        "id": "p5dCmN8ciOCl",
        "outputId": "2b6179f6-60d1-48ba-d4bd-9f2c443c7336"
      },
      "outputs": [
        {
          "output_type": "display_data",
          "data": {
            "text/plain": [
              "<Figure size 1200x400 with 1 Axes>"
            ],
            "image/png": "[encoded data removed]"
          },
          "metadata": {}
        }
      ],
      "source": [
        "# distribution of text essays in the concatinated final dataset\n",
        "\n",
        "f, ax = plt.subplots(figsize=(12, 4))\n",
        "\n",
        "sns.despine()\n",
        "\n",
        "ax = sns.countplot(\n",
        "    data=df_final,\n",
        "    x=\"generated\",\n",
        "    hue=\"generated\",        #\n",
        "    palette=[\"#2ecc71\", \"#e74c3c\"],\n",
        "    legend=False\n",
        ")\n",
        "\n",
        "\n",
        "for container in ax.containers:\n",
        "    ax.bar_label(container)\n",
        "\n",
        "ax.set_title(\"Distribution of generated text (Extended dataset)\", fontsize=14)\n",
        "ax.set_xlabel(\"Label (0 = Human, 1 = LLM)\", fontsize=12)\n",
        "ax.set_ylabel(\"Count\", fontsize=12)\n",
        "\n",
        "plt.show()"
      ]
    },
    {
      "cell_type": "code",
      "execution_count": 20,
      "metadata": {
        "colab": {
          "base_uri": "https://localhost:8080/",
          "height": 741
        },
        "id": "p71O5dOziRKx",
        "outputId": "06b77fad-3424-4c22-8f91-4a0b7aa2405a"
      },
      "outputs": [
        {
          "output_type": "stream",
          "name": "stdout",
          "text": [
            "Text length statistics:\n",
            "count    46246.000000\n",
            "mean      2244.614496\n",
            "std        981.941658\n",
            "min         48.000000\n",
            "25%       1581.000000\n",
            "50%       2070.000000\n",
            "75%       2663.000000\n",
            "max      18322.000000\n",
            "Name: text_length, dtype: float64\n"
          ]
        },
        {
          "output_type": "display_data",
          "data": {
            "text/plain": [
              "<Figure size 1000x600 with 1 Axes>"
            ],
            "image/png": "[encoded data removed]"
          },
          "metadata": {}
        }
      ],
      "source": [
        "\n",
        "df_final['text_length'] = df_final['text'].apply(len)\n",
        "\n",
        "\n",
        "print(\"Text length statistics:\")\n",
        "print(df_final['text_length'].describe())\n",
        "\n",
        "\n",
        "plt.figure(figsize=(10,6))\n",
        "sns.histplot(df_final['text_length'], bins=50, kde=True)\n",
        "plt.title('Distribution of text lengths', fontsize=16)\n",
        "plt.xlabel('Number of characters', fontsize=14)\n",
        "plt.ylabel('Frequency', fontsize=14)\n",
        "plt.grid(True)\n",
        "plt.show()\n"
      ]
    },
    {
      "cell_type": "code",
      "execution_count": 21,
      "metadata": {
        "colab": {
          "base_uri": "https://localhost:8080/",
          "height": 741
        },
        "id": "RRlJa8gWiWAb",
        "outputId": "ff420331-7372-4eeb-a774-03723035ae92"
      },
      "outputs": [
        {
          "output_type": "stream",
          "name": "stdout",
          "text": [
            "Word count ctatistics:\n",
            "count    46246.000000\n",
            "mean       388.761428\n",
            "std        167.367549\n",
            "min          4.000000\n",
            "25%        276.000000\n",
            "50%        357.000000\n",
            "75%        461.000000\n",
            "max       1656.000000\n",
            "Name: word_count, dtype: float64\n"
          ]
        },
        {
          "output_type": "display_data",
          "data": {
            "text/plain": [
              "<Figure size 1000x600 with 1 Axes>"
            ],
            "image/png": "[encoded data removed]"
          },
          "metadata": {}
        }
      ],
      "source": [
        "\n",
        "df_final['word_count'] = df_final['text'].apply(lambda x: len(x.split()))\n",
        "\n",
        "\n",
        "print(\"Word count ctatistics:\")\n",
        "print(df_final['word_count'].describe())\n",
        "\n",
        "plt.figure(figsize=(10,6))\n",
        "sns.histplot(df_final['word_count'], bins=50, kde=True, color='green')\n",
        "plt.title('Distribution of word counts', fontsize=16)\n",
        "plt.xlabel('Number of words', fontsize=14)\n",
        "plt.ylabel('Frequency', fontsize=14)\n",
        "plt.grid(True)\n",
        "plt.show()\n"
      ]
    },
    {
      "cell_type": "markdown",
      "metadata": {
        "id": "s8roVuDhicML"
      },
      "source": [
        "# data cleaning"
      ]
    },
    {
      "cell_type": "code",
      "execution_count": 22,
      "metadata": {
        "colab": {
          "base_uri": "https://localhost:8080/"
        },
        "id": "eJZuJu1Hid0W",
        "outputId": "e539c4fc-7ff9-4d91-c0ef-7f9e85758142"
      },
      "outputs": [
        {
          "output_type": "stream",
          "name": "stdout",
          "text": [
            "Final dataset shape: (44862, 4)\n",
            "generated\n",
            "0    27365\n",
            "1    17497\n",
            "Name: count, dtype: int64\n"
          ]
        }
      ],
      "source": [
        "# drop missing values in the 'text' column\n",
        "df_final = df_final.dropna(subset=['text']).reset_index(drop=True)\n",
        "\n",
        "# basic cleaning: convert to string, remove extra whitespace\n",
        "df_final['text'] = df_final['text'].astype(str).str.strip().str.replace(r'\\s+', ' ', regex=True)\n",
        "\n",
        "# drop duplicate texts\n",
        "df_final = df_final.drop_duplicates(subset=['text']).reset_index(drop=True)\n",
        "\n",
        "# remove very short essays ( fewer than 10 words)\n",
        "# df_final['word_count'] = df_final['text'].apply(lambda x: len(x.split()))\n",
        "# df_final = df_final[df_final['word_count'] >= 10].reset_index(drop=True)\n",
        "\n",
        "# confirm shape and class balance\n",
        "print(f\"Final dataset shape: {df_final.shape}\")\n",
        "print(df_final['generated'].value_counts())  #  check class distribution\n"
      ]
    },
    {
      "cell_type": "code",
      "execution_count": 23,
      "metadata": {
        "colab": {
          "base_uri": "https://localhost:8080/",
          "height": 204
        },
        "id": "0D19LFjykxtS",
        "outputId": "96c66c5c-4400-49dc-ae9e-ba99e06c5baa"
      },
      "outputs": [
        {
          "output_type": "execute_result",
          "data": {
            "text/plain": [
              "                                                text  generated  text_length  \\\n",
              "0  Phones Modern humans today are always on their...          0         2029   \n",
              "1  This essay will explain if drivers should or s...          0         2141   \n",
              "2  Driving while the use of cellular devices Toda...          0         1044   \n",
              "3  Phones & Driving Drivers should not be able to...          0         1243   \n",
              "4  Cell Phone Operation While Driving The ability...          0         1911   \n",
              "\n",
              "   word_count  \n",
              "0         379  \n",
              "1         366  \n",
              "2         178  \n",
              "3         212  \n",
              "4         332  "
            ],
            "text/html": [
              "\n",
              "  <div id=\"df-1d51a3e7-8dfb-4c50-9f79-5c712251206b\" class=\"colab-df-container\">\n",
              "    <div>\n",
              "<style scoped>\n",
              "    .dataframe tbody tr th:only-of-type {\n",
              "        vertical-align: middle;\n",
              "    }\n",
              "\n",
              "    .dataframe tbody tr th {\n",
              "        vertical-align: top;\n",
              "    }\n",
              "\n",
              "    .dataframe thead th {\n",
              "        text-align: right;\n",
              "    }\n",
              "</style>\n",
              "<table border=\"1\" class=\"dataframe\">\n",
              "  <thead>\n",
              "    <tr style=\"text-align: right;\">\n",
              "      <th></th>\n",
              "      <th>text</th>\n",
              "      <th>generated</th>\n",
              "      <th>text_length</th>\n",
              "      <th>word_count</th>\n",
              "    </tr>\n",
              "  </thead>\n",
              "  <tbody>\n",
              "    <tr>\n",
              "      <th>0</th>\n",
              "      <td>Phones Modern humans today are always on their...</td>\n",
              "      <td>0</td>\n",
              "      <td>2029</td>\n",
              "      <td>379</td>\n",
              "    </tr>\n",
              "    <tr>\n",
              "      <th>1</th>\n",
              "      <td>This essay will explain if drivers should or s...</td>\n",
              "      <td>0</td>\n",
              "      <td>2141</td>\n",
              "      <td>366</td>\n",
              "    </tr>\n",
              "    <tr>\n",
              "      <th>2</th>\n",
              "      <td>Driving while the use of cellular devices Toda...</td>\n",
              "      <td>0</td>\n",
              "      <td>1044</td>\n",
              "      <td>178</td>\n",
              "    </tr>\n",
              "    <tr>\n",
              "      <th>3</th>\n",
              "      <td>Phones &amp; Driving Drivers should not be able to...</td>\n",
              "      <td>0</td>\n",
              "      <td>1243</td>\n",
              "      <td>212</td>\n",
              "    </tr>\n",
              "    <tr>\n",
              "      <th>4</th>\n",
              "      <td>Cell Phone Operation While Driving The ability...</td>\n",
              "      <td>0</td>\n",
              "      <td>1911</td>\n",
              "      <td>332</td>\n",
              "    </tr>\n",
              "  </tbody>\n",
              "</table>\n",
              "</div>\n",
              "    <div class=\"colab-df-buttons\">\n",
              "\n",
              "  <div class=\"colab-df-container\">\n",
              "    <button class=\"colab-df-convert\" onclick=\"convertToInteractive('df-1d51a3e7-8dfb-4c50-9f79-5c712251206b')\"\n",
              "            title=\"Convert this dataframe to an interactive table.\"\n",
              "            style=\"display:none;\">\n",
              "\n",
              "  <svg xmlns=\"http://www.w3.org/2000/svg\" height=\"24px\" viewBox=\"0 -960 960 960\">\n",
              "    <path d=\"M120-120v-720h720v720H120Zm60-500h600v-160H180v160Zm220 220h160v-160H400v160Zm0 220h160v-160H400v160ZM180-400h160v-160H180v160Zm440 0h160v-160H620v160ZM180-180h160v-160H180v160Zm440 0h160v-160H620v160Z\"/>\n",
              "  </svg>\n",
              "    </button>\n",
              "\n",
              "  <style>\n",
              "    .colab-df-container {\n",
              "      display:flex;\n",
              "      gap: 12px;\n",
              "    }\n",
              "\n",
              "    .colab-df-convert {\n",
              "      background-color: #E8F0FE;\n",
              "      border: none;\n",
              "      border-radius: 50%;\n",
              "      cursor: pointer;\n",
              "      display: none;\n",
              "      fill: #1967D2;\n",
              "      height: 32px;\n",
              "      padding: 0 0 0 0;\n",
              "      width: 32px;\n",
              "    }\n",
              "\n",
              "    .colab-df-convert:hover {\n",
              "      background-color: #E2EBFA;\n",
              "      box-shadow: 0px 1px 2px rgba(60, 64, 67, 0.3), 0px 1px 3px 1px rgba(60, 64, 67, 0.15);\n",
              "      fill: #174EA6;\n",
              "    }\n",
              "\n",
              "    .colab-df-buttons div {\n",
              "      margin-bottom: 4px;\n",
              "    }\n",
              "\n",
              "    [theme=dark] .colab-df-convert {\n",
              "      background-color: #3B4455;\n",
              "      fill: #D2E3FC;\n",
              "    }\n",
              "\n",
              "    [theme=dark] .colab-df-convert:hover {\n",
              "      background-color: #434B5C;\n",
              "      box-shadow: 0px 1px 3px 1px rgba(0, 0, 0, 0.15);\n",
              "      filter: drop-shadow(0px 1px 2px rgba(0, 0, 0, 0.3));\n",
              "      fill: #FFFFFF;\n",
              "    }\n",
              "  </style>\n",
              "\n",
              "    <script>\n",
              "      const buttonEl =\n",
              "        document.querySelector('#df-1d51a3e7-8dfb-4c50-9f79-5c712251206b button.colab-df-convert');\n",
              "      buttonEl.style.display =\n",
              "        google.colab.kernel.accessAllowed ? 'block' : 'none';\n",
              "\n",
              "      async function convertToInteractive(key) {\n",
              "        const element = document.querySelector('#df-1d51a3e7-8dfb-4c50-9f79-5c712251206b');\n",
              "        const dataTable =\n",
              "          await google.colab.kernel.invokeFunction('convertToInteractive',\n",
              "                                                    [key], {});\n",
              "        if (!dataTable) return;\n",
              "\n",
              "        const docLinkHtml = 'Like what you see? Visit the ' +\n",
              "          '<a target=\"_blank\" href=https://colab.research.google.com/notebooks/data_table.ipynb>data table notebook</a>'\n",
              "          + ' to learn more about interactive tables.';\n",
              "        element.innerHTML = '';\n",
              "        dataTable['output_type'] = 'display_data';\n",
              "        await google.colab.output.renderOutput(dataTable, element);\n",
              "        const docLink = document.createElement('div');\n",
              "        docLink.innerHTML = docLinkHtml;\n",
              "        element.appendChild(docLink);\n",
              "      }\n",
              "    </script>\n",
              "  </div>\n",
              "\n",
              "\n",
              "    <div id=\"df-f0b1cd2e-63d0-4064-9478-94dba9d30788\">\n",
              "      <button class=\"colab-df-quickchart\" onclick=\"quickchart('df-f0b1cd2e-63d0-4064-9478-94dba9d30788')\"\n",
              "                title=\"Suggest charts\"\n",
              "                style=\"display:none;\">\n",
              "\n",
              "<svg xmlns=\"http://www.w3.org/2000/svg\" height=\"24px\"viewBox=\"0 0 24 24\"\n",
              "     width=\"24px\">\n",
              "    <g>\n",
              "        <path d=\"M19 3H5c-1.1 0-2 .9-2 2v14c0 1.1.9 2 2 2h14c1.1 0 2-.9 2-2V5c0-1.1-.9-2-2-2zM9 17H7v-7h2v7zm4 0h-2V7h2v10zm4 0h-2v-4h2v4z\"/>\n",
              "    </g>\n",
              "</svg>\n",
              "      </button>\n",
              "\n",
              "<style>\n",
              "  .colab-df-quickchart {\n",
              "      --bg-color: #E8F0FE;\n",
              "      --fill-color: #1967D2;\n",
              "      --hover-bg-color: #E2EBFA;\n",
              "      --hover-fill-color: #174EA6;\n",
              "      --disabled-fill-color: #AAA;\n",
              "      --disabled-bg-color: #DDD;\n",
              "  }\n",
              "\n",
              "  [theme=dark] .colab-df-quickchart {\n",
              "      --bg-color: #3B4455;\n",
              "      --fill-color: #D2E3FC;\n",
              "      --hover-bg-color: #434B5C;\n",
              "      --hover-fill-color: #FFFFFF;\n",
              "      --disabled-bg-color: #3B4455;\n",
              "      --disabled-fill-color: #666;\n",
              "  }\n",
              "\n",
              "  .colab-df-quickchart {\n",
              "    background-color: var(--bg-color);\n",
              "    border: none;\n",
              "    border-radius: 50%;\n",
              "    cursor: pointer;\n",
              "    display: none;\n",
              "    fill: var(--fill-color);\n",
              "    height: 32px;\n",
              "    padding: 0;\n",
              "    width: 32px;\n",
              "  }\n",
              "\n",
              "  .colab-df-quickchart:hover {\n",
              "    background-color: var(--hover-bg-color);\n",
              "    box-shadow: 0 1px 2px rgba(60, 64, 67, 0.3), 0 1px 3px 1px rgba(60, 64, 67, 0.15);\n",
              "    fill: var(--button-hover-fill-color);\n",
              "  }\n",
              "\n",
              "  .colab-df-quickchart-complete:disabled,\n",
              "  .colab-df-quickchart-complete:disabled:hover {\n",
              "    background-color: var(--disabled-bg-color);\n",
              "    fill: var(--disabled-fill-color);\n",
              "    box-shadow: none;\n",
              "  }\n",
              "\n",
              "  .colab-df-spinner {\n",
              "    border: 2px solid var(--fill-color);\n",
              "    border-color: transparent;\n",
              "    border-bottom-color: var(--fill-color);\n",
              "    animation:\n",
              "      spin 1s steps(1) infinite;\n",
              "  }\n",
              "\n",
              "  @keyframes spin {\n",
              "    0% {\n",
              "      border-color: transparent;\n",
              "      border-bottom-color: var(--fill-color);\n",
              "      border-left-color: var(--fill-color);\n",
              "    }\n",
              "    20% {\n",
              "      border-color: transparent;\n",
              "      border-left-color: var(--fill-color);\n",
              "      border-top-color: var(--fill-color);\n",
              "    }\n",
              "    30% {\n",
              "      border-color: transparent;\n",
              "      border-left-color: var(--fill-color);\n",
              "      border-top-color: var(--fill-color);\n",
              "      border-right-color: var(--fill-color);\n",
              "    }\n",
              "    40% {\n",
              "      border-color: transparent;\n",
              "      border-right-color: var(--fill-color);\n",
              "      border-top-color: var(--fill-color);\n",
              "    }\n",
              "    60% {\n",
              "      border-color: transparent;\n",
              "      border-right-color: var(--fill-color);\n",
              "    }\n",
              "    80% {\n",
              "      border-color: transparent;\n",
              "      border-right-color: var(--fill-color);\n",
              "      border-bottom-color: var(--fill-color);\n",
              "    }\n",
              "    90% {\n",
              "      border-color: transparent;\n",
              "      border-bottom-color: var(--fill-color);\n",
              "    }\n",
              "  }\n",
              "</style>\n",
              "\n",
              "      <script>\n",
              "        async function quickchart(key) {\n",
              "          const quickchartButtonEl =\n",
              "            document.querySelector('#' + key + ' button');\n",
              "          quickchartButtonEl.disabled = true;  // To prevent multiple clicks.\n",
              "          quickchartButtonEl.classList.add('colab-df-spinner');\n",
              "          try {\n",
              "            const charts = await google.colab.kernel.invokeFunction(\n",
              "                'suggestCharts', [key], {});\n",
              "          } catch (error) {\n",
              "            console.error('Error during call to suggestCharts:', error);\n",
              "          }\n",
              "          quickchartButtonEl.classList.remove('colab-df-spinner');\n",
              "          quickchartButtonEl.classList.add('colab-df-quickchart-complete');\n",
              "        }\n",
              "        (() => {\n",
              "          let quickchartButtonEl =\n",
              "            document.querySelector('#df-f0b1cd2e-63d0-4064-9478-94dba9d30788 button');\n",
              "          quickchartButtonEl.style.display =\n",
              "            google.colab.kernel.accessAllowed ? 'block' : 'none';\n",
              "        })();\n",
              "      </script>\n",
              "    </div>\n",
              "\n",
              "    </div>\n",
              "  </div>\n"
            ],
            "application/vnd.google.colaboratory.intrinsic+json": {
              "type": "dataframe",
              "variable_name": "df_final",
              "summary": "{\n  \"name\": \"df_final\",\n  \"rows\": 44862,\n  \"fields\": [\n    {\n      \"column\": \"text\",\n      \"properties\": {\n        \"dtype\": \"string\",\n        \"num_unique_values\": 44862,\n        \"samples\": [\n          \"Here are some relevant talking points to discuss when applying for a job in the medical industry: 1. Advanced medical knowledge and expertise gained through studying and/or working in the medical field 2. Ability to work calmly and reliably in emergency and high-pressure situations 3. Ability to identify potential problems quickly and devise appropriate solutions 4. Skilled in working with both individuals and teams as needed 5. Familiarity with complex medical terminology and procedures 6. Working knowledge of health insurance and reimbursement regulations 7. Proficient in the use of computers and medical software programs 8. Excellent written and verbal communication skills, with a clear understanding of medical and ethical terminology 9. Experience in providing personalized patient care and follow-up 10. Dedication to upholding the highest levels of professional standards and ethical practices.\",\n          \"This job is an opportunity for me to showcase my skills and demonstrate my potential as an artist. Art is a form of self-expression, allowing me to convey my emotions and thoughts through drawings, colors, and designs. Whether I'm feeling alone, happy, or excited, art is a way for me to express myself and create something meaningful. One of the things I love most about art is its ability to capture the beauty and diversity of the world around us. As an artist, I have the opportunity to travel to different places and draw what I see there. For example, if I were to go to Mexico, I could draw the traditional celebrations like Dia de los Muertos, the Day of the Dead, and the unique designs and festivities that take place during that time. My artistic journey began with designing and drawing clothing, which allowed me to start small and build on my ideas. As I continued to work on my art, I began to see the potential for growth and development, and I worked hard to become the artist I am today. To me, art is more than just a hobby or a way to pass the time. It's a way to express what I see and think, to create something beautiful and meaningful. I believe that my passion for art, combined with my hard work and dedication, make me the perfect candidate for this job. I am committed to giving my all and delivering exceptional results, and I am excited about the opportunity to join your team.\",\n          \"Imagine you need to get advice for an issue you have been dealing with recently. Should you ask your mother, who knows a lot about the topic, or your father, who knows very little about the topic. The advice you get from each is going to be different. When it comes to advice, talking to more than one person is useful for, listening to multiple viewpoints, getting multiple options, and having access to a lot of different information. Listening to Multiple view points can impact your final decision a lot. first and foremost, you can come to your own conclusions. when hearing other sides of the story, you are allowed to come up with your own idea about the topic. secondly, you can gather a rough idea. with the newly acquired information, you can form your own idea of what you should do. Last but not least, you can alter the idea your originally had. the job of a view point is to give you new information to reshape your old idea. listening to the viewpoints of others can drastically change your idea. Next, you will be given multiple options. one way of getting multiple options is getting multiple opinions. said opinions can help shape a new idea. next, everyone has equal judgment of a topic. every person is allowed to criticize or agree with the topic at hand. lastly, you will be given contrasting opinions. these contrasting opinions will allow you to see both sides of the views on this certain topic. when asking others for advice, you will be given multiple options. Finally, talking with others helps you gather new information. First,you can learn new things. Talking with others allows you to learn about something you might have not know about. second, you can but more thought into your newly acquired information. researching of asking about the info can make sure that you retain it better. third, you can use the information to reevaluate your idea. if you had a incorrect idea originally then you can now change it to be correct. Talking with others can allow you to acquire a lot of new information. The way you aquire advice from each person is going to be different. you will, listen to multiple veiwpoints, get multiple options, and will gather information from said advice.\"\n        ],\n        \"semantic_type\": \"\",\n        \"description\": \"\"\n      }\n    },\n    {\n      \"column\": \"generated\",\n      \"properties\": {\n        \"dtype\": \"number\",\n        \"std\": 0,\n        \"min\": 0,\n        \"max\": 1,\n        \"num_unique_values\": 2,\n        \"samples\": [\n          1,\n          0\n        ],\n        \"semantic_type\": \"\",\n        \"description\": \"\"\n      }\n    },\n    {\n      \"column\": \"text_length\",\n      \"properties\": {\n        \"dtype\": \"number\",\n        \"std\": 969,\n        \"min\": 48,\n        \"max\": 18322,\n        \"num_unique_values\": 4803,\n        \"samples\": [\n          6160,\n          4854\n        ],\n        \"semantic_type\": \"\",\n        \"description\": \"\"\n      }\n    },\n    {\n      \"column\": \"word_count\",\n      \"properties\": {\n        \"dtype\": \"number\",\n        \"std\": 164,\n        \"min\": 4,\n        \"max\": 1656,\n        \"num_unique_values\": 1064,\n        \"samples\": [\n          365,\n          76\n        ],\n        \"semantic_type\": \"\",\n        \"description\": \"\"\n      }\n    }\n  ]\n}"
            }
          },
          "metadata": {},
          "execution_count": 23
        }
      ],
      "source": [
        "df_final.head()"
      ]
    },
    {
      "cell_type": "markdown",
      "metadata": {
        "id": "SdHhOmdVihSL"
      },
      "source": [
        "# Model training"
      ]
    },
    {
      "cell_type": "markdown",
      "metadata": {
        "id": "R86aM513iH5N"
      },
      "source": [
        "BERT does feature extraction internally. \\\\\n",
        "what makes BERT powerful is that is my feature extractor + classifier in one package."
      ]
    },
    {
      "cell_type": "markdown",
      "metadata": {
        "id": "NPTohjcLs9Pi"
      },
      "source": [
        "## BERT"
      ]
    },
    {
      "cell_type": "code",
      "execution_count": 68,
      "metadata": {
        "id": "vTg7iCZ1Ni6X"
      },
      "outputs": [],
      "source": [
        "# Split the dataset into train and test sets\n",
        "from sklearn.model_selection import train_test_split\n",
        "X_train, X_test, y_train, y_test = train_test_split(df_final[\"text\"],\n",
        "                                                    df_final[\"generated\"],\n",
        "                                                    test_size=0.33,\n",
        "                                                    random_state=42)"
      ]
    },
    {
      "cell_type": "code",
      "execution_count": 69,
      "metadata": {
        "colab": {
          "base_uri": "https://localhost:8080/"
        },
        "id": "jUwSLrjsPjZR",
        "outputId": "785b4b74-7d70-45fd-e586-e5668f12b2ce"
      },
      "outputs": [
        {
          "output_type": "stream",
          "name": "stdout",
          "text": [
            "<class 'pandas.core.series.Series'> 30057\n",
            "6567     Soccer club. Art club. Drama club. The list go...\n",
            "39125    Imagination is more important than knowledge. ...\n",
            "6484     I agree that we should have to be involved in ...\n",
            "Name: text, dtype: object\n"
          ]
        }
      ],
      "source": [
        "print(type(X_train), len(X_train))\n",
        "print(X_train[:3])  # Preview a few entries\n"
      ]
    },
    {
      "cell_type": "code",
      "execution_count": 70,
      "metadata": {
        "id": "Z59rRXtXQo4V"
      },
      "outputs": [],
      "source": [
        "X_train = X_train.tolist()\n",
        "X_test = X_test.tolist()\n",
        "y_train = y_train.tolist()\n",
        "y_test = y_test.tolist()\n"
      ]
    },
    {
      "cell_type": "code",
      "execution_count": 100,
      "metadata": {
        "id": "cNLuWPeBs_Bm"
      },
      "outputs": [],
      "source": [
        "import keras_nlp\n",
        "import tensorflow as tf\n",
        "\n",
        "SEQ_LENGTH = 512\n",
        "\n",
        "#   BERT preprocessor\n",
        "preprocessor = keras_nlp.models.BertPreprocessor.from_preset(\n",
        "    \"bert_base_en\",\n",
        "    sequence_length=SEQ_LENGTH\n",
        ")\n",
        "\n",
        "#  BERT classifier model\n",
        "classifier = keras_nlp.models.BertClassifier.from_preset(\n",
        "    \"bert_base_en\",\n",
        "    num_classes=2,\n",
        "    activation=None,\n",
        "    preprocessor=preprocessor\n",
        ")\n",
        "\n",
        "# to freeze BERT backbone if testing without fine-tuning set False\n",
        "classifier.backbone.trainable = False  # True for fine-tuning\n"
      ]
    },
    {
      "cell_type": "code",
      "execution_count": 87,
      "metadata": {
        "id": "o1hR4_8-tDSs"
      },
      "outputs": [],
      "source": [
        "classifier.compile(\n",
        "    loss=tf.keras.losses.SparseCategoricalCrossentropy(from_logits=True),\n",
        "    optimizer=tf.keras.optimizers.Adam(learning_rate=3e-5),  # 3e-5 if fine-tuning, 5e-4 == frozen\n",
        "    metrics=[tf.keras.metrics.SparseCategoricalAccuracy()]\n",
        ")\n"
      ]
    },
    {
      "cell_type": "code",
      "source": [
        "\"\"\"# earlier stopping\n",
        "early_stop = tf.keras.callbacks.EarlyStopping(\n",
        "    monitor='val_loss',\n",
        "    patience=2,\n",
        "    restore_best_weights=True\n",
        ")\"\"\"\n"
      ],
      "metadata": {
        "id": "InFC2A07h-N8"
      },
      "execution_count": 88,
      "outputs": []
    },
    {
      "cell_type": "code",
      "execution_count": 91,
      "metadata": {
        "colab": {
          "base_uri": "https://localhost:8080/"
        },
        "id": "_FcoNwhetMQU",
        "outputId": "3e74666a-37b8-4771-cc7f-4a229552026d"
      },
      "outputs": [
        {
          "output_type": "stream",
          "name": "stdout",
          "text": [
            "Epoch 1/10\n",
            "\u001b[1m940/940\u001b[0m \u001b[32m━━━━━━━━━━━━━━━━━━━━\u001b[0m\u001b[37m\u001b[0m \u001b[1m288s\u001b[0m 221ms/step - loss: 0.8522 - sparse_categorical_accuracy: 0.3584 - val_loss: 0.8663 - val_sparse_categorical_accuracy: 0.3230\n",
            "Epoch 2/10\n",
            "\u001b[1m940/940\u001b[0m \u001b[32m━━━━━━━━━━━━━━━━━━━━\u001b[0m\u001b[37m\u001b[0m \u001b[1m160s\u001b[0m 170ms/step - loss: 0.8505 - sparse_categorical_accuracy: 0.3636 - val_loss: 0.8663 - val_sparse_categorical_accuracy: 0.3230\n",
            "Epoch 3/10\n",
            "\u001b[1m940/940\u001b[0m \u001b[32m━━━━━━━━━━━━━━━━━━━━\u001b[0m\u001b[37m\u001b[0m \u001b[1m160s\u001b[0m 170ms/step - loss: 0.8477 - sparse_categorical_accuracy: 0.3645 - val_loss: 0.8663 - val_sparse_categorical_accuracy: 0.3230\n"
          ]
        }
      ],
      "source": [
        "history = classifier.fit(\n",
        "    x=X_train,\n",
        "    y=y_train,\n",
        "    validation_data=(X_test, y_test),\n",
        "    epochs=10,\n",
        "    batch_size=32,\n",
        "    callbacks=[early_stop]\n",
        ")\n"
      ]
    },
    {
      "cell_type": "code",
      "source": [
        "import matplotlib.pyplot as plt\n",
        "\n",
        "def plot_training(history, title=\"BERT Training\"):\n",
        "    plt.plot(history.history['loss'], label='Training Loss')\n",
        "    plt.plot(history.history['val_loss'], label='Validation Loss')\n",
        "    plt.title(title)\n",
        "    plt.xlabel('Epoch')\n",
        "    plt.ylabel('Loss')\n",
        "    plt.legend()\n",
        "    plt.grid(True)\n",
        "    plt.show()\n",
        "\n",
        "plot_training(history, title=\"BERT fine-tuned (10 epochs)\")\n"
      ],
      "metadata": {
        "colab": {
          "base_uri": "https://localhost:8080/",
          "height": 472
        },
        "id": "kev0w26laNM6",
        "outputId": "42ef1425-f1a0-4334-ca41-ca12ac2bb7fd"
      },
      "execution_count": 93,
      "outputs": [
        {
          "output_type": "display_data",
          "data": {
            "text/plain": [
              "<Figure size 640x480 with 1 Axes>"
            ],
            "image/png": "[encoded data removed]"
          },
          "metadata": {}
        }
      ]
    },
    {
      "cell_type": "code",
      "execution_count": 94,
      "metadata": {
        "id": "Z5PdD2qWtPEj",
        "colab": {
          "base_uri": "https://localhost:8080/"
        },
        "outputId": "d500e25c-7f17-49b9-a1a0-2d639de6ab1c"
      },
      "outputs": [
        {
          "output_type": "stream",
          "name": "stdout",
          "text": [
            "\u001b[1m463/463\u001b[0m \u001b[32m━━━━━━━━━━━━━━━━━━━━\u001b[0m\u001b[37m\u001b[0m \u001b[1m26s\u001b[0m 46ms/step\n"
          ]
        }
      ],
      "source": [
        "y_pred_test = classifier.predict(X_test)\n"
      ]
    },
    {
      "cell_type": "code",
      "execution_count": 95,
      "metadata": {
        "id": "9Cw_1F6FtRIP",
        "colab": {
          "base_uri": "https://localhost:8080/",
          "height": 472
        },
        "outputId": "b0608979-0f97-4fe9-c2ee-bf6356f7000a"
      },
      "outputs": [
        {
          "output_type": "display_data",
          "data": {
            "text/plain": [
              "<Figure size 640x480 with 2 Axes>"
            ],
            "image/png": "[encoded data removed]"
          },
          "metadata": {}
        }
      ],
      "source": [
        "\n",
        "from sklearn.metrics import ConfusionMatrixDisplay, confusion_matrix\n",
        "\n",
        "def displayConfusionMatrix(y_true, y_pred, dataset=\"Test\"):\n",
        "    disp = ConfusionMatrixDisplay.from_predictions(\n",
        "        y_true,\n",
        "        np.argmax(y_pred, axis=1),\n",
        "        display_labels=[\"Human\", \"LLM\"],\n",
        "        cmap=plt.cm.Blues\n",
        "    )\n",
        "    tn, fp, fn, tp = confusion_matrix(\n",
        "        y_true, np.argmax(y_pred, axis=1)\n",
        "    ).ravel()\n",
        "    f1_score = tp / (tp + ((fn + fp)/2))\n",
        "    disp.ax_.set_title(f\"Confusion matrix on {dataset} dataset -- F1score= {f1_score.round(2)}\")\n",
        "\n",
        "# Run it\n",
        "displayConfusionMatrix(y_test, y_pred_test, \"BERT Test\")\n"
      ]
    },
    {
      "cell_type": "code",
      "execution_count": 96,
      "metadata": {
        "id": "VJL9bzw8lMVS",
        "colab": {
          "base_uri": "https://localhost:8080/"
        },
        "outputId": "467dcaa4-ce05-4a65-88ed-03457b5e8045"
      },
      "outputs": [
        {
          "output_type": "stream",
          "name": "stdout",
          "text": [
            "              precision    recall  f1-score   support\n",
            "\n",
            "       Human       0.27      0.07      0.11      9041\n",
            "         LLM       0.33      0.73      0.46      5764\n",
            "\n",
            "    accuracy                           0.32     14805\n",
            "   macro avg       0.30      0.40      0.28     14805\n",
            "weighted avg       0.30      0.32      0.24     14805\n",
            "\n"
          ]
        }
      ],
      "source": [
        "from sklearn.metrics import classification_report\n",
        "# Get predicted labels from model's probability output\n",
        "y_pred_labels = np.argmax(y_pred_test, axis=1)\n",
        "\n",
        "# Print classification report\n",
        "print(classification_report(y_test, y_pred_labels, target_names=[\"Human\", \"LLM\"]))\n"
      ]
    },
    {
      "cell_type": "code",
      "source": [
        "import matplotlib.pyplot as plt\n",
        "\n",
        "def plot_training(history):\n",
        "    plt.plot(history.history['loss'], label='Training Loss')\n",
        "    plt.plot(history.history['val_loss'], label='Validation Loss')\n",
        "    plt.title('Training and Validation Loss')\n",
        "    plt.xlabel('Epoch')\n",
        "    plt.ylabel('Loss')\n",
        "    plt.legend()\n",
        "    plt.show()\n"
      ],
      "metadata": {
        "id": "VttCftTZXWKa"
      },
      "execution_count": 47,
      "outputs": []
    },
    {
      "cell_type": "markdown",
      "metadata": {
        "id": "61DvnEBlile9"
      },
      "source": []
    },
    {
      "cell_type": "markdown",
      "metadata": {
        "id": "fcntKrZ0J9oh"
      },
      "source": [
        "### BERT evaluation"
      ]
    },
    {
      "cell_type": "markdown",
      "metadata": {
        "id": "gAXuqtf8KHy8"
      },
      "source": [
        "Define a function to visualize the confusion matrix and calculate F1 score"
      ]
    },
    {
      "cell_type": "code",
      "execution_count": 97,
      "metadata": {
        "id": "jpDziCl71BZo"
      },
      "outputs": [],
      "source": [
        "def displayConfusionMatrix(y_true, y_pred, dataset):\n",
        "    disp = ConfusionMatrixDisplay.from_predictions(\n",
        "        y_true,\n",
        "        np.argmax(y_pred, axis=1),\n",
        "        display_labels=[\"Human\",\"LLM\"],\n",
        "        cmap=plt.cm.Blues\n",
        "    )\n",
        "\n",
        "    tn, fp, fn, tp = confusion_matrix(y_true, np.argmax(y_pred, axis=1)).ravel()\n",
        "    f1_score = tp / (tp+((fn+fp)/2))\n",
        "\n",
        "    disp.ax_.set_title(\"Confusion matrix on \" + dataset + \" dataset -- F1score= \" + str(f1_score.round(2)))\n"
      ]
    },
    {
      "cell_type": "markdown",
      "metadata": {
        "id": "z14iFg7LKFy1"
      },
      "source": [
        "predictions on the test set"
      ]
    },
    {
      "cell_type": "code",
      "execution_count": 98,
      "metadata": {
        "id": "6q-hE9bU1BZp",
        "colab": {
          "base_uri": "https://localhost:8080/"
        },
        "outputId": "39d62af7-2e32-4d3a-c30b-a326de252f9f"
      },
      "outputs": [
        {
          "output_type": "stream",
          "name": "stdout",
          "text": [
            "\u001b[1m463/463\u001b[0m \u001b[32m━━━━━━━━━━━━━━━━━━━━\u001b[0m\u001b[37m\u001b[0m \u001b[1m18s\u001b[0m 38ms/step\n"
          ]
        }
      ],
      "source": [
        "y_pred_test = classifier.predict(X_test)"
      ]
    },
    {
      "cell_type": "code",
      "execution_count": 99,
      "metadata": {
        "id": "1whasH0w1BZp",
        "colab": {
          "base_uri": "https://localhost:8080/",
          "height": 472
        },
        "outputId": "5a0ff552-12f7-4ffe-9685-ae36cbbf26d3"
      },
      "outputs": [
        {
          "output_type": "display_data",
          "data": {
            "text/plain": [
              "<Figure size 640x480 with 2 Axes>"
            ],
            "image/png": "[encoded data removed]"
          },
          "metadata": {}
        }
      ],
      "source": [
        "from sklearn.metrics import ConfusionMatrixDisplay, confusion_matrix\n",
        "\n",
        "displayConfusionMatrix(y_test, y_pred_test,  \"Test\")\n"
      ]
    },
    {
      "cell_type": "code",
      "execution_count": 36,
      "metadata": {
        "id": "qG8m4AzGXVLC",
        "colab": {
          "base_uri": "https://localhost:8080/"
        },
        "outputId": "15241dcd-123a-4c96-e3c8-64ef59fa3e81"
      },
      "outputs": [
        {
          "output_type": "stream",
          "name": "stdout",
          "text": [
            "              precision    recall  f1-score   support\n",
            "\n",
            "       Human       0.90      0.93      0.91      9041\n",
            "         LLM       0.88      0.84      0.86      5764\n",
            "\n",
            "    accuracy                           0.89     14805\n",
            "   macro avg       0.89      0.88      0.89     14805\n",
            "weighted avg       0.89      0.89      0.89     14805\n",
            "\n"
          ]
        }
      ],
      "source": [
        "from sklearn.metrics import classification_report\n",
        "import numpy as np\n",
        "\n",
        "# Get predicted labels from model's probability output\n",
        "y_pred_labels = np.argmax(y_pred_test, axis=1)\n",
        "\n",
        "# Print classification report\n",
        "print(classification_report(y_test, y_pred_labels, target_names=[\"Human\", \"LLM\"]))\n"
      ]
    },
    {
      "cell_type": "markdown",
      "metadata": {
        "id": "8nkCcNYehpFG"
      },
      "source": [
        "## DistilBERT Model"
      ]
    },
    {
      "cell_type": "markdown",
      "metadata": {
        "id": "xp8C8wtBhtgt"
      },
      "source": [
        "DistilBertClassifier handle tokenization internally using the preprocessor."
      ]
    },
    {
      "cell_type": "markdown",
      "metadata": {
        "id": "oeyxq01AiOjw"
      },
      "source": [
        "Set up a DistilBERT classifier (faster version of BERT) using KerasNLP: \\\\\n",
        "\n",
        "1- Tokenizes text \\\\\n",
        "2- Uses 512-token max sequence length \\\\\n",
        "3- Uses 2 output classes: Human vs AI \\\\\n",
        "4- Freezes BERT layers for faster training (no fine-tuning)"
      ]
    },
    {
      "cell_type": "markdown",
      "metadata": {
        "id": "NGIlAMCmiZDH"
      },
      "source": [
        "As optimizer, I have used Adam optimizer  "
      ]
    },
    {
      "cell_type": "code",
      "execution_count": 110,
      "metadata": {
        "id": "3KZBnK9elJzG"
      },
      "outputs": [],
      "source": [
        "# Split the dataset into train and test sets\n",
        "from sklearn.model_selection import train_test_split\n",
        "X_train, X_test, y_train, y_test = train_test_split(df_final[\"text\"],\n",
        "                                                    df_final[\"generated\"],\n",
        "                                                    test_size=0.33,\n",
        "                                                    random_state=42)"
      ]
    },
    {
      "cell_type": "code",
      "source": [
        "X_train = X_train.tolist()\n",
        "y_train = y_train.tolist()\n",
        "X_test = X_test.tolist()\n",
        "y_test = y_test.tolist()\n"
      ],
      "metadata": {
        "id": "XIDOILDdv8OT"
      },
      "execution_count": 111,
      "outputs": []
    },
    {
      "cell_type": "code",
      "execution_count": 139,
      "metadata": {
        "id": "uKHfzJYLkYEB",
        "colab": {
          "base_uri": "https://localhost:8080/",
          "height": 465
        },
        "outputId": "a303eca4-da40-4f35-a348-21497c418c55"
      },
      "outputs": [
        {
          "output_type": "display_data",
          "data": {
            "text/plain": [
              "\u001b[1mPreprocessor: \"distil_bert_text_classifier_preprocessor_3\"\u001b[0m\n"
            ],
            "text/html": [
              "<pre style=\"white-space:pre;overflow-x:auto;line-height:normal;font-family:Menlo,'DejaVu Sans Mono',consolas,'Courier New',monospace\"><span style=\"font-weight: bold\">Preprocessor: \"distil_bert_text_classifier_preprocessor_3\"</span>\n",
              "</pre>\n"
            ]
          },
          "metadata": {}
        },
        {
          "output_type": "display_data",
          "data": {
            "text/plain": [
              "┏━━━━━━━━━━━━━━━━━━━━━━━━━━━━━━━━━━━━━━━━━━━━━━━━━━━━━━━━━━━━━━━┳━━━━━━━━━━━━━━━━━━━━━━━━━━━━━━━━━━━━━━━━━━┓\n",
              "┃\u001b[1m \u001b[0m\u001b[1mLayer (type)                                                 \u001b[0m\u001b[1m \u001b[0m┃\u001b[1m \u001b[0m\u001b[1m                                  Config\u001b[0m\u001b[1m \u001b[0m┃\n",
              "┡━━━━━━━━━━━━━━━━━━━━━━━━━━━━━━━━━━━━━━━━━━━━━━━━━━━━━━━━━━━━━━━╇━━━━━━━━━━━━━━━━━━━━━━━━━━━━━━━━━━━━━━━━━━┩\n",
              "│ distil_bert_tokenizer (\u001b[38;5;33mDistilBertTokenizer\u001b[0m)                   │                       Vocab size: \u001b[38;5;34m30,522\u001b[0m │\n",
              "└───────────────────────────────────────────────────────────────┴──────────────────────────────────────────┘\n"
            ],
            "text/html": [
              "<pre style=\"white-space:pre;overflow-x:auto;line-height:normal;font-family:Menlo,'DejaVu Sans Mono',consolas,'Courier New',monospace\">┏━━━━━━━━━━━━━━━━━━━━━━━━━━━━━━━━━━━━━━━━━━━━━━━━━━━━━━━━━━━━━━━┳━━━━━━━━━━━━━━━━━━━━━━━━━━━━━━━━━━━━━━━━━━┓\n",
              "┃<span style=\"font-weight: bold\"> Layer (type)                                                  </span>┃<span style=\"font-weight: bold\">                                   Config </span>┃\n",
              "┡━━━━━━━━━━━━━━━━━━━━━━━━━━━━━━━━━━━━━━━━━━━━━━━━━━━━━━━━━━━━━━━╇━━━━━━━━━━━━━━━━━━━━━━━━━━━━━━━━━━━━━━━━━━┩\n",
              "│ distil_bert_tokenizer (<span style=\"color: #0087ff; text-decoration-color: #0087ff\">DistilBertTokenizer</span>)                   │                       Vocab size: <span style=\"color: #00af00; text-decoration-color: #00af00\">30,522</span> │\n",
              "└───────────────────────────────────────────────────────────────┴──────────────────────────────────────────┘\n",
              "</pre>\n"
            ]
          },
          "metadata": {}
        },
        {
          "output_type": "display_data",
          "data": {
            "text/plain": [
              "\u001b[1mModel: \"distil_bert_text_classifier_3\"\u001b[0m\n"
            ],
            "text/html": [
              "<pre style=\"white-space:pre;overflow-x:auto;line-height:normal;font-family:Menlo,'DejaVu Sans Mono',consolas,'Courier New',monospace\"><span style=\"font-weight: bold\">Model: \"distil_bert_text_classifier_3\"</span>\n",
              "</pre>\n"
            ]
          },
          "metadata": {}
        },
        {
          "output_type": "display_data",
          "data": {
            "text/plain": [
              "┏━━━━━━━━━━━━━━━━━━━━━━━━━━━━━━━┳━━━━━━━━━━━━━━━━━━━━━━━━━━━┳━━━━━━━━━━━━━━━━━┳━━━━━━━━━━━━━━━━━━━━━━━━━━━━┓\n",
              "┃\u001b[1m \u001b[0m\u001b[1mLayer (type)                 \u001b[0m\u001b[1m \u001b[0m┃\u001b[1m \u001b[0m\u001b[1mOutput Shape             \u001b[0m\u001b[1m \u001b[0m┃\u001b[1m \u001b[0m\u001b[1m        Param #\u001b[0m\u001b[1m \u001b[0m┃\u001b[1m \u001b[0m\u001b[1mConnected to              \u001b[0m\u001b[1m \u001b[0m┃\n",
              "┡━━━━━━━━━━━━━━━━━━━━━━━━━━━━━━━╇━━━━━━━━━━━━━━━━━━━━━━━━━━━╇━━━━━━━━━━━━━━━━━╇━━━━━━━━━━━━━━━━━━━━━━━━━━━━┩\n",
              "│ padding_mask (\u001b[38;5;33mInputLayer\u001b[0m)     │ (\u001b[38;5;45mNone\u001b[0m, \u001b[38;5;45mNone\u001b[0m)              │               \u001b[38;5;34m0\u001b[0m │ -                          │\n",
              "├───────────────────────────────┼───────────────────────────┼─────────────────┼────────────────────────────┤\n",
              "│ token_ids (\u001b[38;5;33mInputLayer\u001b[0m)        │ (\u001b[38;5;45mNone\u001b[0m, \u001b[38;5;45mNone\u001b[0m)              │               \u001b[38;5;34m0\u001b[0m │ -                          │\n",
              "├───────────────────────────────┼───────────────────────────┼─────────────────┼────────────────────────────┤\n",
              "│ distil_bert_backbone          │ (\u001b[38;5;45mNone\u001b[0m, \u001b[38;5;45mNone\u001b[0m, \u001b[38;5;34m768\u001b[0m)         │      \u001b[38;5;34m66,362,880\u001b[0m │ padding_mask[\u001b[38;5;34m0\u001b[0m][\u001b[38;5;34m0\u001b[0m],        │\n",
              "│ (\u001b[38;5;33mDistilBertBackbone\u001b[0m)          │                           │                 │ token_ids[\u001b[38;5;34m0\u001b[0m][\u001b[38;5;34m0\u001b[0m]            │\n",
              "├───────────────────────────────┼───────────────────────────┼─────────────────┼────────────────────────────┤\n",
              "│ get_item_9 (\u001b[38;5;33mGetItem\u001b[0m)          │ (\u001b[38;5;45mNone\u001b[0m, \u001b[38;5;34m768\u001b[0m)               │               \u001b[38;5;34m0\u001b[0m │ distil_bert_backbone[\u001b[38;5;34m0\u001b[0m][\u001b[38;5;34m0\u001b[0m] │\n",
              "├───────────────────────────────┼───────────────────────────┼─────────────────┼────────────────────────────┤\n",
              "│ pooled_dense (\u001b[38;5;33mDense\u001b[0m)          │ (\u001b[38;5;45mNone\u001b[0m, \u001b[38;5;34m768\u001b[0m)               │         \u001b[38;5;34m590,592\u001b[0m │ get_item_9[\u001b[38;5;34m0\u001b[0m][\u001b[38;5;34m0\u001b[0m]           │\n",
              "├───────────────────────────────┼───────────────────────────┼─────────────────┼────────────────────────────┤\n",
              "│ output_dropout (\u001b[38;5;33mDropout\u001b[0m)      │ (\u001b[38;5;45mNone\u001b[0m, \u001b[38;5;34m768\u001b[0m)               │               \u001b[38;5;34m0\u001b[0m │ pooled_dense[\u001b[38;5;34m0\u001b[0m][\u001b[38;5;34m0\u001b[0m]         │\n",
              "├───────────────────────────────┼───────────────────────────┼─────────────────┼────────────────────────────┤\n",
              "│ logits (\u001b[38;5;33mDense\u001b[0m)                │ (\u001b[38;5;45mNone\u001b[0m, \u001b[38;5;34m2\u001b[0m)                 │           \u001b[38;5;34m1,538\u001b[0m │ output_dropout[\u001b[38;5;34m0\u001b[0m][\u001b[38;5;34m0\u001b[0m]       │\n",
              "└───────────────────────────────┴───────────────────────────┴─────────────────┴────────────────────────────┘\n"
            ],
            "text/html": [
              "<pre style=\"white-space:pre;overflow-x:auto;line-height:normal;font-family:Menlo,'DejaVu Sans Mono',consolas,'Courier New',monospace\">┏━━━━━━━━━━━━━━━━━━━━━━━━━━━━━━━┳━━━━━━━━━━━━━━━━━━━━━━━━━━━┳━━━━━━━━━━━━━━━━━┳━━━━━━━━━━━━━━━━━━━━━━━━━━━━┓\n",
              "┃<span style=\"font-weight: bold\"> Layer (type)                  </span>┃<span style=\"font-weight: bold\"> Output Shape              </span>┃<span style=\"font-weight: bold\">         Param # </span>┃<span style=\"font-weight: bold\"> Connected to               </span>┃\n",
              "┡━━━━━━━━━━━━━━━━━━━━━━━━━━━━━━━╇━━━━━━━━━━━━━━━━━━━━━━━━━━━╇━━━━━━━━━━━━━━━━━╇━━━━━━━━━━━━━━━━━━━━━━━━━━━━┩\n",
              "│ padding_mask (<span style=\"color: #0087ff; text-decoration-color: #0087ff\">InputLayer</span>)     │ (<span style=\"color: #00d7ff; text-decoration-color: #00d7ff\">None</span>, <span style=\"color: #00d7ff; text-decoration-color: #00d7ff\">None</span>)              │               <span style=\"color: #00af00; text-decoration-color: #00af00\">0</span> │ -                          │\n",
              "├───────────────────────────────┼───────────────────────────┼─────────────────┼────────────────────────────┤\n",
              "│ token_ids (<span style=\"color: #0087ff; text-decoration-color: #0087ff\">InputLayer</span>)        │ (<span style=\"color: #00d7ff; text-decoration-color: #00d7ff\">None</span>, <span style=\"color: #00d7ff; text-decoration-color: #00d7ff\">None</span>)              │               <span style=\"color: #00af00; text-decoration-color: #00af00\">0</span> │ -                          │\n",
              "├───────────────────────────────┼───────────────────────────┼─────────────────┼────────────────────────────┤\n",
              "│ distil_bert_backbone          │ (<span style=\"color: #00d7ff; text-decoration-color: #00d7ff\">None</span>, <span style=\"color: #00d7ff; text-decoration-color: #00d7ff\">None</span>, <span style=\"color: #00af00; text-decoration-color: #00af00\">768</span>)         │      <span style=\"color: #00af00; text-decoration-color: #00af00\">66,362,880</span> │ padding_mask[<span style=\"color: #00af00; text-decoration-color: #00af00\">0</span>][<span style=\"color: #00af00; text-decoration-color: #00af00\">0</span>],        │\n",
              "│ (<span style=\"color: #0087ff; text-decoration-color: #0087ff\">DistilBertBackbone</span>)          │                           │                 │ token_ids[<span style=\"color: #00af00; text-decoration-color: #00af00\">0</span>][<span style=\"color: #00af00; text-decoration-color: #00af00\">0</span>]            │\n",
              "├───────────────────────────────┼───────────────────────────┼─────────────────┼────────────────────────────┤\n",
              "│ get_item_9 (<span style=\"color: #0087ff; text-decoration-color: #0087ff\">GetItem</span>)          │ (<span style=\"color: #00d7ff; text-decoration-color: #00d7ff\">None</span>, <span style=\"color: #00af00; text-decoration-color: #00af00\">768</span>)               │               <span style=\"color: #00af00; text-decoration-color: #00af00\">0</span> │ distil_bert_backbone[<span style=\"color: #00af00; text-decoration-color: #00af00\">0</span>][<span style=\"color: #00af00; text-decoration-color: #00af00\">0</span>] │\n",
              "├───────────────────────────────┼───────────────────────────┼─────────────────┼────────────────────────────┤\n",
              "│ pooled_dense (<span style=\"color: #0087ff; text-decoration-color: #0087ff\">Dense</span>)          │ (<span style=\"color: #00d7ff; text-decoration-color: #00d7ff\">None</span>, <span style=\"color: #00af00; text-decoration-color: #00af00\">768</span>)               │         <span style=\"color: #00af00; text-decoration-color: #00af00\">590,592</span> │ get_item_9[<span style=\"color: #00af00; text-decoration-color: #00af00\">0</span>][<span style=\"color: #00af00; text-decoration-color: #00af00\">0</span>]           │\n",
              "├───────────────────────────────┼───────────────────────────┼─────────────────┼────────────────────────────┤\n",
              "│ output_dropout (<span style=\"color: #0087ff; text-decoration-color: #0087ff\">Dropout</span>)      │ (<span style=\"color: #00d7ff; text-decoration-color: #00d7ff\">None</span>, <span style=\"color: #00af00; text-decoration-color: #00af00\">768</span>)               │               <span style=\"color: #00af00; text-decoration-color: #00af00\">0</span> │ pooled_dense[<span style=\"color: #00af00; text-decoration-color: #00af00\">0</span>][<span style=\"color: #00af00; text-decoration-color: #00af00\">0</span>]         │\n",
              "├───────────────────────────────┼───────────────────────────┼─────────────────┼────────────────────────────┤\n",
              "│ logits (<span style=\"color: #0087ff; text-decoration-color: #0087ff\">Dense</span>)                │ (<span style=\"color: #00d7ff; text-decoration-color: #00d7ff\">None</span>, <span style=\"color: #00af00; text-decoration-color: #00af00\">2</span>)                 │           <span style=\"color: #00af00; text-decoration-color: #00af00\">1,538</span> │ output_dropout[<span style=\"color: #00af00; text-decoration-color: #00af00\">0</span>][<span style=\"color: #00af00; text-decoration-color: #00af00\">0</span>]       │\n",
              "└───────────────────────────────┴───────────────────────────┴─────────────────┴────────────────────────────┘\n",
              "</pre>\n"
            ]
          },
          "metadata": {}
        },
        {
          "output_type": "display_data",
          "data": {
            "text/plain": [
              "\u001b[1m Total params: \u001b[0m\u001b[38;5;34m66,955,010\u001b[0m (255.41 MB)\n"
            ],
            "text/html": [
              "<pre style=\"white-space:pre;overflow-x:auto;line-height:normal;font-family:Menlo,'DejaVu Sans Mono',consolas,'Courier New',monospace\"><span style=\"font-weight: bold\"> Total params: </span><span style=\"color: #00af00; text-decoration-color: #00af00\">66,955,010</span> (255.41 MB)\n",
              "</pre>\n"
            ]
          },
          "metadata": {}
        },
        {
          "output_type": "display_data",
          "data": {
            "text/plain": [
              "\u001b[1m Trainable params: \u001b[0m\u001b[38;5;34m66,955,010\u001b[0m (255.41 MB)\n"
            ],
            "text/html": [
              "<pre style=\"white-space:pre;overflow-x:auto;line-height:normal;font-family:Menlo,'DejaVu Sans Mono',consolas,'Courier New',monospace\"><span style=\"font-weight: bold\"> Trainable params: </span><span style=\"color: #00af00; text-decoration-color: #00af00\">66,955,010</span> (255.41 MB)\n",
              "</pre>\n"
            ]
          },
          "metadata": {}
        },
        {
          "output_type": "display_data",
          "data": {
            "text/plain": [
              "\u001b[1m Non-trainable params: \u001b[0m\u001b[38;5;34m0\u001b[0m (0.00 B)\n"
            ],
            "text/html": [
              "<pre style=\"white-space:pre;overflow-x:auto;line-height:normal;font-family:Menlo,'DejaVu Sans Mono',consolas,'Courier New',monospace\"><span style=\"font-weight: bold\"> Non-trainable params: </span><span style=\"color: #00af00; text-decoration-color: #00af00\">0</span> (0.00 B)\n",
              "</pre>\n"
            ]
          },
          "metadata": {}
        }
      ],
      "source": [
        "# We choose 512 because it's the limit of DistilBert\n",
        "SEQ_LENGTH = 512\n",
        "\n",
        "# Use a shorter sequence length.\n",
        "preprocessor = keras_nlp.models.DistilBertPreprocessor.from_preset(\n",
        "    \"distil_bert_base_en_uncased\",\n",
        "    sequence_length=SEQ_LENGTH,\n",
        ")\n",
        "\n",
        "# Pretrained classifier.\n",
        "classifier = keras_nlp.models.DistilBertClassifier.from_preset(\n",
        "    \"distil_bert_base_en_uncased\",\n",
        "    num_classes=2,\n",
        "    activation=None,\n",
        "    preprocessor=preprocessor,\n",
        ")\n",
        "\n",
        "# Access backbone programmatically (e.g., to change `trainable`).\n",
        "classifier.backbone.trainable = True\n",
        "# Re-compile (e.g., with a new learning rate)\n",
        "\n",
        "classifier.compile(\n",
        "    loss=tf.keras.losses.SparseCategoricalCrossentropy(from_logits=True),\n",
        "    optimizer=tf.keras.optimizers.Adam(learning_rate=1e-5),  # Explicitly use TensorFlow's optimizer\n",
        "    metrics=[tf.keras.metrics.SparseCategoricalAccuracy()]\n",
        ")\n",
        "\n",
        "\n",
        "\n",
        "\n",
        "\n",
        "classifier.summary()"
      ]
    },
    {
      "cell_type": "markdown",
      "metadata": {
        "id": "9Pv_inR4lJXo"
      },
      "source": [
        "Split combined dataset into training and testing subsets"
      ]
    },
    {
      "cell_type": "markdown",
      "metadata": {
        "id": "ZdLuJvyWipKX"
      },
      "source": [
        "Train the model on training data for x epoch. \\\\\n",
        "Suggestions: \\\\\n",
        "1- Train for more epochs ( 3–5) \\\\\n",
        "2- Use EarlyStopping for better generalization \\\\\n",
        "3- Unfreeze BERT (classifier.backbone.trainable = True) for full fine-tuning\n"
      ]
    },
    {
      "cell_type": "code",
      "source": [
        "# earlier stopping\n",
        "early_stop = tf.keras.callbacks.EarlyStopping(\n",
        "    monitor='val_loss',\n",
        "    patience=2,\n",
        "    restore_best_weights=True\n",
        ")\n"
      ],
      "metadata": {
        "id": "1cUQZUIb3k0W"
      },
      "execution_count": 140,
      "outputs": []
    },
    {
      "cell_type": "code",
      "execution_count": 141,
      "metadata": {
        "id": "XGq-CSGslWb8",
        "colab": {
          "base_uri": "https://localhost:8080/"
        },
        "outputId": "5b0ed993-23bd-4cf4-c42d-d14383b3a525"
      },
      "outputs": [
        {
          "output_type": "stream",
          "name": "stdout",
          "text": [
            "Epoch 1/10\n",
            "\u001b[1m940/940\u001b[0m \u001b[32m━━━━━━━━━━━━━━━━━━━━\u001b[0m\u001b[37m\u001b[0m \u001b[1m150s\u001b[0m 116ms/step - loss: 0.7031 - sparse_categorical_accuracy: 0.4085 - val_loss: 0.7044 - val_sparse_categorical_accuracy: 0.3892\n",
            "Epoch 2/10\n",
            "\u001b[1m940/940\u001b[0m \u001b[32m━━━━━━━━━━━━━━━━━━━━\u001b[0m\u001b[37m\u001b[0m \u001b[1m83s\u001b[0m 88ms/step - loss: 0.7032 - sparse_categorical_accuracy: 0.4096 - val_loss: 0.7044 - val_sparse_categorical_accuracy: 0.3892\n",
            "Epoch 3/10\n",
            "\u001b[1m940/940\u001b[0m \u001b[32m━━━━━━━━━━━━━━━━━━━━\u001b[0m\u001b[37m\u001b[0m \u001b[1m83s\u001b[0m 88ms/step - loss: 0.7029 - sparse_categorical_accuracy: 0.4125 - val_loss: 0.7044 - val_sparse_categorical_accuracy: 0.3892\n",
            "Epoch 4/10\n",
            "\u001b[1m940/940\u001b[0m \u001b[32m━━━━━━━━━━━━━━━━━━━━\u001b[0m\u001b[37m\u001b[0m \u001b[1m83s\u001b[0m 88ms/step - loss: 0.7030 - sparse_categorical_accuracy: 0.4119 - val_loss: 0.7044 - val_sparse_categorical_accuracy: 0.3892\n",
            "Epoch 5/10\n",
            "\u001b[1m940/940\u001b[0m \u001b[32m━━━━━━━━━━━━━━━━━━━━\u001b[0m\u001b[37m\u001b[0m \u001b[1m83s\u001b[0m 88ms/step - loss: 0.7029 - sparse_categorical_accuracy: 0.4088 - val_loss: 0.7044 - val_sparse_categorical_accuracy: 0.3892\n",
            "Epoch 6/10\n",
            "\u001b[1m940/940\u001b[0m \u001b[32m━━━━━━━━━━━━━━━━━━━━\u001b[0m\u001b[37m\u001b[0m \u001b[1m83s\u001b[0m 88ms/step - loss: 0.7027 - sparse_categorical_accuracy: 0.4123 - val_loss: 0.7044 - val_sparse_categorical_accuracy: 0.3892\n",
            "Epoch 7/10\n",
            "\u001b[1m940/940\u001b[0m \u001b[32m━━━━━━━━━━━━━━━━━━━━\u001b[0m\u001b[37m\u001b[0m \u001b[1m83s\u001b[0m 88ms/step - loss: 0.7028 - sparse_categorical_accuracy: 0.4102 - val_loss: 0.7044 - val_sparse_categorical_accuracy: 0.3892\n",
            "Epoch 8/10\n",
            "\u001b[1m940/940\u001b[0m \u001b[32m━━━━━━━━━━━━━━━━━━━━\u001b[0m\u001b[37m\u001b[0m \u001b[1m83s\u001b[0m 88ms/step - loss: 0.7027 - sparse_categorical_accuracy: 0.4124 - val_loss: 0.7044 - val_sparse_categorical_accuracy: 0.3892\n",
            "Epoch 9/10\n",
            "\u001b[1m940/940\u001b[0m \u001b[32m━━━━━━━━━━━━━━━━━━━━\u001b[0m\u001b[37m\u001b[0m \u001b[1m83s\u001b[0m 88ms/step - loss: 0.7024 - sparse_categorical_accuracy: 0.4148 - val_loss: 0.7044 - val_sparse_categorical_accuracy: 0.3892\n",
            "Epoch 10/10\n",
            "\u001b[1m940/940\u001b[0m \u001b[32m━━━━━━━━━━━━━━━━━━━━\u001b[0m\u001b[37m\u001b[0m \u001b[1m83s\u001b[0m 88ms/step - loss: 0.7029 - sparse_categorical_accuracy: 0.4120 - val_loss: 0.7044 - val_sparse_categorical_accuracy: 0.3892\n"
          ]
        }
      ],
      "source": [
        "history = classifier.fit(\n",
        "    x=X_train,\n",
        "    y=y_train,\n",
        "    validation_data=(X_test, y_test),\n",
        "    epochs=10,\n",
        "    batch_size=32\n",
        ")\n"
      ]
    },
    {
      "cell_type": "code",
      "source": [
        "import matplotlib.pyplot as plt\n",
        "\n",
        "def plot_training(history, title=\"BERT Training\"):\n",
        "    plt.plot(history.history['loss'], label='Training Loss')\n",
        "    plt.plot(history.history['val_loss'], label='Validation Loss')\n",
        "    plt.title(title)\n",
        "    plt.xlabel('Epoch')\n",
        "    plt.ylabel('Loss')\n",
        "    plt.legend()\n",
        "    plt.grid(True)\n",
        "    plt.show()\n",
        "\n",
        "plot_training(history, title=\"DistilBERT fine-tuned (10 epochs)\")\n"
      ],
      "metadata": {
        "colab": {
          "base_uri": "https://localhost:8080/",
          "height": 472
        },
        "id": "ZKaXNgYy0KN2",
        "outputId": "04b9fab6-b272-4d5b-e302-47c65925b842"
      },
      "execution_count": 142,
      "outputs": [
        {
          "output_type": "display_data",
          "data": {
            "text/plain": [
              "<Figure size 640x480 with 1 Axes>"
            ],
            "image/png": "[encoded data removed]"
          },
          "metadata": {}
        }
      ]
    },
    {
      "cell_type": "code",
      "source": [
        "def displayConfusionMatrix(y_true, y_pred, dataset):\n",
        "    disp = ConfusionMatrixDisplay.from_predictions(\n",
        "        y_true,\n",
        "        np.argmax(y_pred, axis=1),\n",
        "        display_labels=[\"Human\",\"LLM\"],\n",
        "        cmap=plt.cm.Blues\n",
        "    )\n",
        "\n",
        "    tn, fp, fn, tp = confusion_matrix(y_true, np.argmax(y_pred, axis=1)).ravel()\n",
        "    f1_score = tp / (tp+((fn+fp)/2))\n",
        "\n",
        "    disp.ax_.set_title(\"Confusion matrix on \" + dataset + \" dataset -- F1score= \" + str(f1_score.round(2)))\n"
      ],
      "metadata": {
        "id": "BAT8ARgs4mCi"
      },
      "execution_count": 143,
      "outputs": []
    },
    {
      "cell_type": "code",
      "source": [
        "y_pred_test = classifier.predict(X_test)"
      ],
      "metadata": {
        "id": "TTY3YDvP4URj",
        "colab": {
          "base_uri": "https://localhost:8080/"
        },
        "outputId": "7eed1160-a7d6-4987-8bbc-7f5d93453b9f"
      },
      "execution_count": 144,
      "outputs": [
        {
          "output_type": "stream",
          "name": "stdout",
          "text": [
            "\u001b[1m463/463\u001b[0m \u001b[32m━━━━━━━━━━━━━━━━━━━━\u001b[0m\u001b[37m\u001b[0m \u001b[1m14s\u001b[0m 25ms/step\n"
          ]
        }
      ]
    },
    {
      "cell_type": "code",
      "source": [
        "from sklearn.metrics import ConfusionMatrixDisplay, confusion_matrix\n",
        "\n",
        "displayConfusionMatrix(y_test, y_pred_test,  \"Test\")"
      ],
      "metadata": {
        "id": "ecoyn1uh4U5l",
        "colab": {
          "base_uri": "https://localhost:8080/",
          "height": 472
        },
        "outputId": "7d04298d-2aac-4eb6-a57a-8536fc9c7ee9"
      },
      "execution_count": 145,
      "outputs": [
        {
          "output_type": "display_data",
          "data": {
            "text/plain": [
              "<Figure size 640x480 with 2 Axes>"
            ],
            "image/png": "[encoded data removed]"
          },
          "metadata": {}
        }
      ]
    },
    {
      "cell_type": "code",
      "source": [
        "from sklearn.metrics import classification_report\n",
        "import numpy as np\n",
        "\n",
        "# Get predicted labels from model's probability output\n",
        "y_pred_labels = np.argmax(y_pred_test, axis=1)\n",
        "\n",
        "# Print classification report\n",
        "print(classification_report(y_test, y_pred_labels, target_names=[\"Human\", \"LLM\"]))\n"
      ],
      "metadata": {
        "id": "uXzOw-9-4yvF",
        "colab": {
          "base_uri": "https://localhost:8080/"
        },
        "outputId": "53ffcdc7-1cc4-4031-d2d9-d674be49cf1d"
      },
      "execution_count": 148,
      "outputs": [
        {
          "output_type": "stream",
          "name": "stdout",
          "text": [
            "              precision    recall  f1-score   support\n",
            "\n",
            "       Human       0.25      0.00      0.00      9041\n",
            "         LLM       0.39      1.00      0.56      5764\n",
            "\n",
            "    accuracy                           0.39     14805\n",
            "   macro avg       0.32      0.50      0.28     14805\n",
            "weighted avg       0.30      0.39      0.22     14805\n",
            "\n"
          ]
        }
      ]
    },
    {
      "cell_type": "markdown",
      "source": [
        "## RoBERTa model"
      ],
      "metadata": {
        "id": "zXIkgaZx6xyI"
      }
    },
    {
      "cell_type": "code",
      "source": [
        "import keras_nlp\n",
        "import tensorflow as tf\n",
        "\n",
        "# Preprocessor\n",
        "preprocessor = keras_nlp.models.RobertaPreprocessor.from_preset(\n",
        "    \"roberta_base_en\",\n",
        "    sequence_length=512\n",
        ")\n",
        "\n",
        "# Classifier\n",
        "classifier = keras_nlp.models.RobertaClassifier.from_preset(\n",
        "    \"roberta_base_en\",\n",
        "    num_classes=2,\n",
        "    activation=None,\n",
        "    preprocessor=preprocessor\n",
        ")\n",
        "\n",
        "# Freeze the backbone\n",
        "classifier.backbone.trainable = True\n",
        "\n",
        "# Compile the model\n",
        "classifier.compile(\n",
        "    loss=tf.keras.losses.SparseCategoricalCrossentropy(from_logits=True),\n",
        "    optimizer=tf.keras.optimizers.Adam(learning_rate=1e-5),\n",
        "    metrics=[tf.keras.metrics.SparseCategoricalAccuracy()]\n",
        ")\n",
        "\n"
      ],
      "metadata": {
        "id": "vCGZOP_d62M9"
      },
      "execution_count": 178,
      "outputs": []
    },
    {
      "cell_type": "code",
      "source": [
        "# earlier stopping\n",
        "early_stop = tf.keras.callbacks.EarlyStopping(\n",
        "    monitor='val_loss',\n",
        "    patience=2,\n",
        "    restore_best_weights=True\n",
        ")\n"
      ],
      "metadata": {
        "id": "tRS1E9vuEGGB"
      },
      "execution_count": 180,
      "outputs": []
    },
    {
      "cell_type": "code",
      "source": [
        "# Fit the model\n",
        "history = classifier.fit(\n",
        "    x=X_train,\n",
        "    y=y_train,\n",
        "    validation_data=(X_test, y_test),\n",
        "    epochs=10,\n",
        "    batch_size=32\n",
        ")\n"
      ],
      "metadata": {
        "colab": {
          "base_uri": "https://localhost:8080/"
        },
        "id": "bFam75W8_LuJ",
        "outputId": "1087a606-b09f-46d2-a4be-8f386c004923"
      },
      "execution_count": 181,
      "outputs": [
        {
          "output_type": "stream",
          "name": "stdout",
          "text": [
            "Epoch 1/10\n",
            "\u001b[1m940/940\u001b[0m \u001b[32m━━━━━━━━━━━━━━━━━━━━\u001b[0m\u001b[37m\u001b[0m \u001b[1m288s\u001b[0m 225ms/step - loss: 0.6884 - sparse_categorical_accuracy: 0.5988 - val_loss: 0.6874 - val_sparse_categorical_accuracy: 0.6107\n",
            "Epoch 2/10\n",
            "\u001b[1m940/940\u001b[0m \u001b[32m━━━━━━━━━━━━━━━━━━━━\u001b[0m\u001b[37m\u001b[0m \u001b[1m167s\u001b[0m 175ms/step - loss: 0.6887 - sparse_categorical_accuracy: 0.5998 - val_loss: 0.6874 - val_sparse_categorical_accuracy: 0.6107\n",
            "Epoch 3/10\n",
            "\u001b[1m940/940\u001b[0m \u001b[32m━━━━━━━━━━━━━━━━━━━━\u001b[0m\u001b[37m\u001b[0m \u001b[1m167s\u001b[0m 176ms/step - loss: 0.6888 - sparse_categorical_accuracy: 0.6006 - val_loss: 0.6874 - val_sparse_categorical_accuracy: 0.6107\n",
            "Epoch 4/10\n",
            "\u001b[1m940/940\u001b[0m \u001b[32m━━━━━━━━━━━━━━━━━━━━\u001b[0m\u001b[37m\u001b[0m \u001b[1m167s\u001b[0m 175ms/step - loss: 0.6884 - sparse_categorical_accuracy: 0.5999 - val_loss: 0.6874 - val_sparse_categorical_accuracy: 0.6107\n",
            "Epoch 5/10\n",
            "\u001b[1m940/940\u001b[0m \u001b[32m━━━━━━━━━━━━━━━━━━━━\u001b[0m\u001b[37m\u001b[0m \u001b[1m167s\u001b[0m 175ms/step - loss: 0.6885 - sparse_categorical_accuracy: 0.5989 - val_loss: 0.6874 - val_sparse_categorical_accuracy: 0.6107\n",
            "Epoch 6/10\n",
            "\u001b[1m940/940\u001b[0m \u001b[32m━━━━━━━━━━━━━━━━━━━━\u001b[0m\u001b[37m\u001b[0m \u001b[1m167s\u001b[0m 175ms/step - loss: 0.6884 - sparse_categorical_accuracy: 0.6002 - val_loss: 0.6874 - val_sparse_categorical_accuracy: 0.6107\n",
            "Epoch 7/10\n",
            "\u001b[1m940/940\u001b[0m \u001b[32m━━━━━━━━━━━━━━━━━━━━\u001b[0m\u001b[37m\u001b[0m \u001b[1m168s\u001b[0m 176ms/step - loss: 0.6886 - sparse_categorical_accuracy: 0.5985 - val_loss: 0.6874 - val_sparse_categorical_accuracy: 0.6107\n",
            "Epoch 8/10\n",
            "\u001b[1m940/940\u001b[0m \u001b[32m━━━━━━━━━━━━━━━━━━━━\u001b[0m\u001b[37m\u001b[0m \u001b[1m167s\u001b[0m 175ms/step - loss: 0.6886 - sparse_categorical_accuracy: 0.5989 - val_loss: 0.6874 - val_sparse_categorical_accuracy: 0.6107\n",
            "Epoch 9/10\n",
            "\u001b[1m940/940\u001b[0m \u001b[32m━━━━━━━━━━━━━━━━━━━━\u001b[0m\u001b[37m\u001b[0m \u001b[1m167s\u001b[0m 175ms/step - loss: 0.6887 - sparse_categorical_accuracy: 0.5992 - val_loss: 0.6874 - val_sparse_categorical_accuracy: 0.6107\n",
            "Epoch 10/10\n",
            "\u001b[1m940/940\u001b[0m \u001b[32m━━━━━━━━━━━━━━━━━━━━\u001b[0m\u001b[37m\u001b[0m \u001b[1m167s\u001b[0m 175ms/step - loss: 0.6885 - sparse_categorical_accuracy: 0.6007 - val_loss: 0.6874 - val_sparse_categorical_accuracy: 0.6107\n"
          ]
        }
      ]
    },
    {
      "cell_type": "code",
      "source": [
        "import matplotlib.pyplot as plt\n",
        "\n",
        "def plot_training(history, title=\"RoBERTa Training\"):\n",
        "    plt.plot(history.history['loss'], label='Training loss')\n",
        "    plt.plot(history.history['val_loss'], label='Validation loss')\n",
        "    plt.title(title)\n",
        "    plt.xlabel('Epoch')\n",
        "    plt.ylabel('Loss')\n",
        "    plt.legend()\n",
        "    plt.grid(True)\n",
        "    plt.show()\n",
        "\n",
        "plot_training(history, title=\"RoBERTa fine-tuned (10 epochs)\")\n"
      ],
      "metadata": {
        "colab": {
          "base_uri": "https://localhost:8080/",
          "height": 472
        },
        "id": "hItouoco90qa",
        "outputId": "f595a3c3-a5cd-411d-b86e-d46715245d1d"
      },
      "execution_count": 182,
      "outputs": [
        {
          "output_type": "display_data",
          "data": {
            "text/plain": [
              "<Figure size 640x480 with 1 Axes>"
            ],
            "image/png": "[encoded data removed]"
          },
          "metadata": {}
        }
      ]
    },
    {
      "cell_type": "code",
      "source": [
        "def displayConfusionMatrix(y_true, y_pred, dataset):\n",
        "    disp = ConfusionMatrixDisplay.from_predictions(\n",
        "        y_true,\n",
        "        np.argmax(y_pred, axis=1),\n",
        "        display_labels=[\"Human\",\"LLM\"],\n",
        "        cmap=plt.cm.Blues\n",
        "    )\n",
        "\n",
        "    tn, fp, fn, tp = confusion_matrix(y_true, np.argmax(y_pred, axis=1)).ravel()\n",
        "    f1_score = tp / (tp+((fn+fp)/2))\n",
        "\n",
        "    disp.ax_.set_title(\"Confusion matrix on \" + dataset + \" dataset -- F1score= \" + str(f1_score.round(2)))\n"
      ],
      "metadata": {
        "id": "UxW6Xuax-Ce5"
      },
      "execution_count": 184,
      "outputs": []
    },
    {
      "cell_type": "code",
      "source": [
        "y_pred_test = classifier.predict(X_test)"
      ],
      "metadata": {
        "colab": {
          "base_uri": "https://localhost:8080/"
        },
        "id": "jMbJT2FR-DIn",
        "outputId": "1a49c2a8-b903-441f-89d9-a9b36e3d51e7"
      },
      "execution_count": 185,
      "outputs": [
        {
          "output_type": "stream",
          "name": "stdout",
          "text": [
            "\u001b[1m463/463\u001b[0m \u001b[32m━━━━━━━━━━━━━━━━━━━━\u001b[0m\u001b[37m\u001b[0m \u001b[1m33s\u001b[0m 52ms/step\n"
          ]
        }
      ]
    },
    {
      "cell_type": "code",
      "source": [
        "from sklearn.metrics import ConfusionMatrixDisplay, confusion_matrix\n",
        "\n",
        "displayConfusionMatrix(y_test, y_pred_test,  \"Test\")"
      ],
      "metadata": {
        "colab": {
          "base_uri": "https://localhost:8080/",
          "height": 472
        },
        "id": "4Z8rWa1c-KZD",
        "outputId": "60c74051-60e2-4198-bbf5-5bc5d4c61a2e"
      },
      "execution_count": 186,
      "outputs": [
        {
          "output_type": "display_data",
          "data": {
            "text/plain": [
              "<Figure size 640x480 with 2 Axes>"
            ],
            "image/png": "[encoded data removed]"
          },
          "metadata": {}
        }
      ]
    },
    {
      "cell_type": "code",
      "source": [
        "from sklearn.metrics import classification_report\n",
        "import numpy as np\n",
        "\n",
        "# Get predicted labels from model's probability output\n",
        "y_pred_labels = np.argmax(y_pred_test, axis=1)\n",
        "\n",
        "# Print classification report\n",
        "print(classification_report(y_test, y_pred_labels, target_names=[\"Human\", \"LLM\"]))\n"
      ],
      "metadata": {
        "colab": {
          "base_uri": "https://localhost:8080/"
        },
        "id": "F6Uz47jn-UCD",
        "outputId": "09f346bb-d3b9-4136-abcc-7040c452e94a"
      },
      "execution_count": 187,
      "outputs": [
        {
          "output_type": "stream",
          "name": "stdout",
          "text": [
            "              precision    recall  f1-score   support\n",
            "\n",
            "       Human       0.61      1.00      0.76      9041\n",
            "         LLM       0.00      0.00      0.00      5764\n",
            "\n",
            "    accuracy                           0.61     14805\n",
            "   macro avg       0.31      0.50      0.38     14805\n",
            "weighted avg       0.37      0.61      0.46     14805\n",
            "\n"
          ]
        },
        {
          "output_type": "stream",
          "name": "stderr",
          "text": [
            "/usr/local/lib/python3.11/dist-packages/sklearn/metrics/_classification.py:1565: UndefinedMetricWarning: Precision is ill-defined and being set to 0.0 in labels with no predicted samples. Use `zero_division` parameter to control this behavior.\n",
            "  _warn_prf(average, modifier, f\"{metric.capitalize()} is\", len(result))\n",
            "/usr/local/lib/python3.11/dist-packages/sklearn/metrics/_classification.py:1565: UndefinedMetricWarning: Precision is ill-defined and being set to 0.0 in labels with no predicted samples. Use `zero_division` parameter to control this behavior.\n",
            "  _warn_prf(average, modifier, f\"{metric.capitalize()} is\", len(result))\n",
            "/usr/local/lib/python3.11/dist-packages/sklearn/metrics/_classification.py:1565: UndefinedMetricWarning: Precision is ill-defined and being set to 0.0 in labels with no predicted samples. Use `zero_division` parameter to control this behavior.\n",
            "  _warn_prf(average, modifier, f\"{metric.capitalize()} is\", len(result))\n"
          ]
        }
      ]
    },
    {
      "cell_type": "markdown",
      "source": [
        "# Performance analysis by essay length categories"
      ],
      "metadata": {
        "id": "4xcqWnkZVjhn"
      }
    },
    {
      "cell_type": "markdown",
      "source": [
        "##BERT"
      ],
      "metadata": {
        "id": "ZEQrAJKSWpIq"
      }
    },
    {
      "cell_type": "code",
      "source": [
        "\n",
        "df_final['word_count'] = df_final['text'].apply(lambda x: len(str(x).split()))\n",
        "\n",
        "#   Define text length categories\n",
        "def assign_length_bin(word_count):\n",
        "    if word_count <= 200:\n",
        "        return 'Short'\n",
        "    elif word_count <= 500:\n",
        "        return 'Medium'\n",
        "    else:\n",
        "        return 'Long'\n",
        "\n",
        "df_final['length_bin'] = df_final['word_count'].apply(assign_length_bin)\n",
        "\n"
      ],
      "metadata": {
        "id": "xRLAQh4pbq5c"
      },
      "execution_count": 199,
      "outputs": []
    },
    {
      "cell_type": "code",
      "source": [
        "\n",
        "#   Train-test split\n",
        "\n",
        "X_full = df_final['text'].tolist()\n",
        "y_full = df_final['generated'].tolist()\n",
        "X_train, X_test_bert, y_train, y_test_bert = train_test_split(\n",
        "    X_full, y_full, test_size=0.33, stratify=y_full, random_state=42\n",
        ")"
      ],
      "metadata": {
        "id": "SQVjfv7FdCSV"
      },
      "execution_count": 202,
      "outputs": []
    },
    {
      "cell_type": "code",
      "source": [
        "import keras_nlp\n",
        "import tensorflow as tf\n",
        "from sklearn.model_selection import train_test_split\n",
        "\n",
        "# prepare the preprocessor and frozen classifier\n",
        "preprocessor = keras_nlp.models.BertPreprocessor.from_preset(\n",
        "    \"bert_base_en\",\n",
        "    sequence_length=512\n",
        ")\n",
        "\n",
        "classifier = keras_nlp.models.BertClassifier.from_preset(\n",
        "    \"bert_base_en\",\n",
        "    num_classes=2,\n",
        "    activation=None,\n",
        "    preprocessor=preprocessor\n",
        ")\n",
        "\n",
        "# Freeze the backbone (no fine-tuning)\n",
        "classifier.backbone.trainable = False\n",
        "\n",
        "# Compile with frozen settings\n",
        "classifier.compile(\n",
        "    loss=tf.keras.losses.SparseCategoricalCrossentropy(from_logits=True),\n",
        "    optimizer=tf.keras.optimizers.Adam(learning_rate=5e-4),\n",
        "    metrics=[tf.keras.metrics.SparseCategoricalAccuracy()]\n",
        ")\n",
        "\n",
        "# ensure we have a cleaned df_final with ['text', 'generated', 'word_count'] columns\n",
        "# split data\n",
        "X_full = df_final['text'].tolist()\n",
        "y_full = df_final['generated'].tolist()\n",
        "\n",
        "X_train, X_test_bert, y_train, y_test_bert = train_test_split(\n",
        "    X_full, y_full, test_size=0.33, stratify=y_full, random_state=42\n",
        ")\n",
        "\n",
        "# train the frozen model\n",
        "history = classifier.fit(\n",
        "    x=X_train,\n",
        "    y=y_train,\n",
        "    validation_data=(X_test_bert, y_test_bert),\n",
        "    epochs=1,\n",
        "    batch_size=32\n",
        ")\n",
        "\n"
      ],
      "metadata": {
        "colab": {
          "base_uri": "https://localhost:8080/"
        },
        "id": "5KOGzYwjVmXa",
        "outputId": "0f39b84d-70cd-4768-cea2-b0974be51abb"
      },
      "execution_count": 203,
      "outputs": [
        {
          "output_type": "stream",
          "name": "stdout",
          "text": [
            "\u001b[1m940/940\u001b[0m \u001b[32m━━━━━━━━━━━━━━━━━━━━\u001b[0m\u001b[37m\u001b[0m \u001b[1m139s\u001b[0m 109ms/step - loss: 0.4963 - sparse_categorical_accuracy: 0.7708 - val_loss: 0.3630 - val_sparse_categorical_accuracy: 0.8484\n"
          ]
        }
      ]
    },
    {
      "cell_type": "code",
      "source": [
        "# predict to get logits\n",
        "y_pred_logits_bert = classifier.predict(X_test_bert)\n"
      ],
      "metadata": {
        "colab": {
          "base_uri": "https://localhost:8080/"
        },
        "id": "brvtSrGXbQHJ",
        "outputId": "408e0e8f-ad81-401c-e567-098493667fb8"
      },
      "execution_count": 204,
      "outputs": [
        {
          "output_type": "stream",
          "name": "stdout",
          "text": [
            "\u001b[1m463/463\u001b[0m \u001b[32m━━━━━━━━━━━━━━━━━━━━\u001b[0m\u001b[37m\u001b[0m \u001b[1m27s\u001b[0m 47ms/step\n"
          ]
        }
      ]
    },
    {
      "cell_type": "code",
      "source": [
        "\n",
        "from sklearn.metrics import classification_report, accuracy_score\n",
        "import numpy as np\n",
        "import pandas as pd\n",
        "\n",
        "def evaluate_by_length(X_test, y_test, y_pred_logits, word_bins=[200, 500]):\n",
        "    y_pred = np.argmax(y_pred_logits, axis=1)\n",
        "    word_counts = np.array([len(text.split()) for text in X_test])\n",
        "\n",
        "    categories = {\n",
        "        \"Short (≤ 200)\": word_counts <= word_bins[0],\n",
        "        \"Medium (201–500)\": (word_counts > word_bins[0]) & (word_counts <= word_bins[1]),\n",
        "        \"Long (> 500)\": word_counts > word_bins[1]\n",
        "    }\n",
        "\n",
        "    results = []\n",
        "    for category, mask in categories.items():\n",
        "        if np.sum(mask) == 0:\n",
        "            continue\n",
        "        y_true_cat = np.array(y_test)[mask]\n",
        "        y_pred_cat = y_pred[mask]\n",
        "\n",
        "        acc = accuracy_score(y_true_cat, y_pred_cat)\n",
        "        report = classification_report(y_true_cat, y_pred_cat, output_dict=True, zero_division=0)\n",
        "        f1_llm = report[\"1\"][\"f1-score\"]\n",
        "        f1_human = report[\"0\"][\"f1-score\"]\n",
        "\n",
        "        results.append({\n",
        "            \"Category\": category,\n",
        "            \"Accuracy\": round(acc, 4),\n",
        "            \"F1 (LLM)\": round(f1_llm, 4),\n",
        "            \"F1 (Human)\": round(f1_human, 4)\n",
        "        })\n",
        "\n",
        "    return pd.DataFrame(results)\n",
        "\n",
        "# 6. Evaluate\n",
        "df_result_bert = evaluate_by_length(X_test_bert, y_test_bert, y_pred_logits_bert)\n",
        "print(df_result_bert)"
      ],
      "metadata": {
        "colab": {
          "base_uri": "https://localhost:8080/"
        },
        "id": "SZSCSHludxma",
        "outputId": "466845f8-45b7-49f7-b26c-f4b25c6163d2"
      },
      "execution_count": 207,
      "outputs": [
        {
          "output_type": "stream",
          "name": "stdout",
          "text": [
            "           Category  Accuracy  F1 (LLM)  F1 (Human)\n",
            "0     Short (≤ 200)    0.9126    0.8870      0.9287\n",
            "1  Medium (201–500)    0.8512    0.8541      0.8482\n",
            "2      Long (> 500)    0.8090    0.4250      0.8855\n"
          ]
        }
      ]
    },
    {
      "cell_type": "markdown",
      "source": [
        "## DistilBERT"
      ],
      "metadata": {
        "id": "JrKaH-poWsQ4"
      }
    },
    {
      "cell_type": "code",
      "source": [
        "# train-test split\n",
        "\n",
        "X_full = df_final['text'].tolist()\n",
        "y_full = df_final['generated'].tolist()\n",
        "X_train, X_test_Dbert, y_train, y_test_Dbert = train_test_split(\n",
        "    X_full, y_full, test_size=0.33, stratify=y_full, random_state=42\n",
        ")\n"
      ],
      "metadata": {
        "id": "Z-NcCkt5hI_u"
      },
      "execution_count": 209,
      "outputs": []
    },
    {
      "cell_type": "code",
      "source": [
        "import keras_nlp\n",
        "import tensorflow as tf\n",
        "from sklearn.model_selection import train_test_split\n",
        "\n",
        "preprocessor = keras_nlp.models.DistilBertPreprocessor.from_preset(\n",
        "    \"distil_bert_base_en_uncased\",\n",
        "    sequence_length=SEQ_LENGTH,\n",
        ")\n",
        "\n",
        "# pretrained classifier\n",
        "classifier = keras_nlp.models.DistilBertClassifier.from_preset(\n",
        "    \"distil_bert_base_en_uncased\",\n",
        "    num_classes=2,\n",
        "    activation=None,\n",
        "    preprocessor=preprocessor,\n",
        ")\n",
        "\n",
        "# no fine-tuning\n",
        "classifier.backbone.trainable = False\n",
        "\n",
        "# compile with frozen settings\n",
        "classifier.compile(\n",
        "    loss=tf.keras.losses.SparseCategoricalCrossentropy(from_logits=True),\n",
        "    optimizer=tf.keras.optimizers.Adam(learning_rate=5e-4),\n",
        "    metrics=[tf.keras.metrics.SparseCategoricalAccuracy()]\n",
        ")\n",
        "\n",
        "\n",
        "# Ensure we have a cleaned df_final with ['text', 'generated', 'word_count'] columns\n",
        "# split  data\n",
        "X_full = df_final['text'].tolist()\n",
        "y_full = df_final['generated'].tolist()\n",
        "\n",
        "X_train, X_test_Dbert, y_train, y_test_Dbert = train_test_split(\n",
        "    X_full, y_full, test_size=0.33, stratify=y_full, random_state=42\n",
        ")\n",
        "\n",
        "# train the frozen model\n",
        "history = classifier.fit(\n",
        "    x=X_train,\n",
        "    y=y_train,\n",
        "    validation_data=(X_test_Dbert, y_test_Dbert),\n",
        "    epochs=1,\n",
        "    batch_size=32\n",
        ")\n",
        "\n"
      ],
      "metadata": {
        "colab": {
          "base_uri": "https://localhost:8080/"
        },
        "id": "vV_qDE24Wusb",
        "outputId": "2d4f7697-3e46-4187-ff98-024abda221a9"
      },
      "execution_count": 210,
      "outputs": [
        {
          "output_type": "stream",
          "name": "stdout",
          "text": [
            "\u001b[1m940/940\u001b[0m \u001b[32m━━━━━━━━━━━━━━━━━━━━\u001b[0m\u001b[37m\u001b[0m \u001b[1m77s\u001b[0m 60ms/step - loss: 0.1594 - sparse_categorical_accuracy: 0.9353 - val_loss: 0.3724 - val_sparse_categorical_accuracy: 0.8580\n"
          ]
        }
      ]
    },
    {
      "cell_type": "code",
      "source": [
        "# predict to get logits\n",
        "y_pred_logits_Dbert = classifier.predict(X_test_Dbert)\n",
        "\n"
      ],
      "metadata": {
        "colab": {
          "base_uri": "https://localhost:8080/"
        },
        "id": "dbBnQRJvhAso",
        "outputId": "db19bd7b-198e-45a9-c960-d227a45d586d"
      },
      "execution_count": 211,
      "outputs": [
        {
          "output_type": "stream",
          "name": "stdout",
          "text": [
            "\u001b[1m463/463\u001b[0m \u001b[32m━━━━━━━━━━━━━━━━━━━━\u001b[0m\u001b[37m\u001b[0m \u001b[1m15s\u001b[0m 26ms/step\n"
          ]
        }
      ]
    },
    {
      "cell_type": "code",
      "source": [
        "\n",
        "from sklearn.metrics import classification_report, accuracy_score\n",
        "\n",
        "\n",
        "def evaluate_by_length(X_test, y_test, y_pred_logits, word_bins=[200, 500]):\n",
        "    y_pred = np.argmax(y_pred_logits, axis=1)\n",
        "    word_counts = np.array([len(text.split()) for text in X_test])\n",
        "\n",
        "    categories = {\n",
        "        \"Short (≤ 200)\": word_counts <= word_bins[0],\n",
        "        \"Medium (201–500)\": (word_counts > word_bins[0]) & (word_counts <= word_bins[1]),\n",
        "        \"Long (> 500)\": word_counts > word_bins[1]\n",
        "    }\n",
        "\n",
        "    results = []\n",
        "    for category, mask in categories.items():\n",
        "        if np.sum(mask) == 0:\n",
        "            continue\n",
        "        y_true_cat = np.array(y_test)[mask]\n",
        "        y_pred_cat = y_pred[mask]\n",
        "\n",
        "        acc = accuracy_score(y_true_cat, y_pred_cat)\n",
        "        report = classification_report(y_true_cat, y_pred_cat, output_dict=True, zero_division=0)\n",
        "        f1_llm = report[\"1\"][\"f1-score\"]\n",
        "        f1_human = report[\"0\"][\"f1-score\"]\n",
        "\n",
        "        results.append({\n",
        "            \"Category\": category,\n",
        "            \"Accuracy\": round(acc, 4),\n",
        "            \"F1 (LLM)\": round(f1_llm, 4),\n",
        "            \"F1 (Human)\": round(f1_human, 4)\n",
        "        })\n",
        "\n",
        "    return pd.DataFrame(results)\n",
        "\n",
        "#   evaluate\n",
        "df_result_bert = evaluate_by_length(X_test_bert, y_test_Dbert, y_pred_logits_Dbert)\n",
        "print(df_result_bert)"
      ],
      "metadata": {
        "colab": {
          "base_uri": "https://localhost:8080/"
        },
        "id": "M5VYqDfZhe-E",
        "outputId": "112d7ee8-7907-4d65-e797-24671e0b2996"
      },
      "execution_count": 216,
      "outputs": [
        {
          "output_type": "stream",
          "name": "stdout",
          "text": [
            "           Category  Accuracy  F1 (LLM)  F1 (Human)\n",
            "0     Short (≤ 200)    0.8619    0.8401      0.8785\n",
            "1  Medium (201–500)    0.8875    0.8932      0.8810\n",
            "2      Long (> 500)    0.7399    0.3689      0.8362\n"
          ]
        }
      ]
    },
    {
      "cell_type": "markdown",
      "source": [
        "## RoBERTa"
      ],
      "metadata": {
        "id": "jppVo_WRWu84"
      }
    },
    {
      "cell_type": "code",
      "source": [
        "# train-test split\n",
        "\n",
        "X_full = df_final['text'].tolist()\n",
        "y_full = df_final['generated'].tolist()\n",
        "X_train, X_test_Dbert, y_train, y_test_Robert = train_test_split(\n",
        "    X_full, y_full, test_size=0.33, stratify=y_full, random_state=42\n",
        ")\n"
      ],
      "metadata": {
        "id": "5h8wiEPHjHgN"
      },
      "execution_count": 217,
      "outputs": []
    },
    {
      "cell_type": "code",
      "source": [
        "import keras_nlp\n",
        "import tensorflow as tf\n",
        "from sklearn.model_selection import train_test_split\n",
        "\n",
        "# preprocessor\n",
        "preprocessor = keras_nlp.models.RobertaPreprocessor.from_preset(\n",
        "    \"roberta_base_en\",\n",
        "    sequence_length=512\n",
        ")\n",
        "\n",
        "# classifier\n",
        "classifier = keras_nlp.models.RobertaClassifier.from_preset(\n",
        "    \"roberta_base_en\",\n",
        "    num_classes=2,\n",
        "    activation=None,\n",
        "    preprocessor=preprocessor\n",
        ")\n",
        "\n",
        "# no fine-tuning\n",
        "classifier.backbone.trainable = False\n",
        "\n",
        "# compile with frozen settings\n",
        "classifier.compile(\n",
        "    loss=tf.keras.losses.SparseCategoricalCrossentropy(from_logits=True),\n",
        "    optimizer=tf.keras.optimizers.Adam(learning_rate=5e-4),\n",
        "    metrics=[tf.keras.metrics.SparseCategoricalAccuracy()]\n",
        ")\n",
        "\n",
        "\n",
        "# ensure we have a cleaned df_final with ['text', 'generated', 'word_count'] columns\n",
        "# split data\n",
        "X_full = df_final['text'].tolist()\n",
        "y_full = df_final['generated'].tolist()\n",
        "\n",
        "X_train, X_test_Robert, y_train, y_test_Robert = train_test_split(\n",
        "    X_full, y_full, test_size=0.33, stratify=y_full, random_state=42\n",
        ")\n",
        "\n",
        "# train the frozen model\n",
        "history = classifier.fit(\n",
        "    x=X_train,\n",
        "    y=y_train,\n",
        "    validation_data=(X_test_Robert, y_test_Robert),\n",
        "    epochs=1,\n",
        "    batch_size=32\n",
        ")\n",
        "\n"
      ],
      "metadata": {
        "colab": {
          "base_uri": "https://localhost:8080/"
        },
        "outputId": "b587d40b-17a5-4c14-83ee-4ef8a74af963",
        "id": "8PHM7GxNjHgS"
      },
      "execution_count": 218,
      "outputs": [
        {
          "output_type": "stream",
          "name": "stdout",
          "text": [
            "\u001b[1m940/940\u001b[0m \u001b[32m━━━━━━━━━━━━━━━━━━━━\u001b[0m\u001b[37m\u001b[0m \u001b[1m154s\u001b[0m 120ms/step - loss: 0.2118 - sparse_categorical_accuracy: 0.9238 - val_loss: 0.0790 - val_sparse_categorical_accuracy: 0.9705\n"
          ]
        }
      ]
    },
    {
      "cell_type": "code",
      "source": [
        "# predict to get logits\n",
        "y_pred_logits_Robert = classifier.predict(X_test_Robert)\n",
        "\n"
      ],
      "metadata": {
        "colab": {
          "base_uri": "https://localhost:8080/"
        },
        "outputId": "dab00ee5-fcfe-4cfd-dd3d-bc91850c13a8",
        "id": "Jtb6DP9fjHgU"
      },
      "execution_count": 219,
      "outputs": [
        {
          "output_type": "stream",
          "name": "stdout",
          "text": [
            "\u001b[1m463/463\u001b[0m \u001b[32m━━━━━━━━━━━━━━━━━━━━\u001b[0m\u001b[37m\u001b[0m \u001b[1m31s\u001b[0m 51ms/step\n"
          ]
        }
      ]
    },
    {
      "cell_type": "code",
      "source": [
        "\n",
        "from sklearn.metrics import classification_report, accuracy_score\n",
        "import numpy as np\n",
        "import pandas as pd\n",
        "\n",
        "def evaluate_by_length(X_test, y_test, y_pred_logits, word_bins=[200, 500]):\n",
        "    y_pred = np.argmax(y_pred_logits, axis=1)\n",
        "    word_counts = np.array([len(text.split()) for text in X_test])\n",
        "\n",
        "    categories = {\n",
        "        \"Short (≤ 200)\": word_counts <= word_bins[0],\n",
        "        \"Medium (201–500)\": (word_counts > word_bins[0]) & (word_counts <= word_bins[1]),\n",
        "        \"Long (> 500)\": word_counts > word_bins[1]\n",
        "    }\n",
        "\n",
        "    results = []\n",
        "    for category, mask in categories.items():\n",
        "        if np.sum(mask) == 0:\n",
        "            continue\n",
        "        y_true_cat = np.array(y_test)[mask]\n",
        "        y_pred_cat = y_pred[mask]\n",
        "\n",
        "        acc = accuracy_score(y_true_cat, y_pred_cat)\n",
        "        report = classification_report(y_true_cat, y_pred_cat, output_dict=True, zero_division=0)\n",
        "        f1_llm = report[\"1\"][\"f1-score\"]\n",
        "        f1_human = report[\"0\"][\"f1-score\"]\n",
        "\n",
        "        results.append({\n",
        "            \"Category\": category,\n",
        "            \"Accuracy\": round(acc, 4),\n",
        "            \"F1 (LLM)\": round(f1_llm, 4),\n",
        "            \"F1 (Human)\": round(f1_human, 4)\n",
        "        })\n",
        "\n",
        "    return pd.DataFrame(results)\n",
        "\n",
        "# evaluate\n",
        "df_result_bert = evaluate_by_length(X_test_bert, y_test_Robert, y_pred_logits_Robert)\n",
        "print(df_result_bert)"
      ],
      "metadata": {
        "colab": {
          "base_uri": "https://localhost:8080/"
        },
        "outputId": "a4635fc0-2197-45ec-de99-3916a0080b1f",
        "id": "5noVzoUEjHgV"
      },
      "execution_count": 220,
      "outputs": [
        {
          "output_type": "stream",
          "name": "stdout",
          "text": [
            "           Category  Accuracy  F1 (LLM)  F1 (Human)\n",
            "0     Short (≤ 200)    0.9788    0.9715      0.9831\n",
            "1  Medium (201–500)    0.9787    0.9778      0.9795\n",
            "2      Long (> 500)    0.9345    0.6990      0.9633\n"
          ]
        }
      ]
    },
    {
      "cell_type": "markdown",
      "source": [
        "## Visualization of results\n"
      ],
      "metadata": {
        "id": "VBr8Yd8trjaw"
      }
    },
    {
      "cell_type": "code",
      "source": [
        "# create a combined dataframe for LLM F1-scores across models\n",
        "f1_llm_comparison = pd.DataFrame({\n",
        "    \"Category\": [\"Short (≤ 200)\", \"Medium (201–500)\", \"Long (> 500)\"],\n",
        "    \"BERT\": [0.8870, 0.8541, 0.4250],\n",
        "    \"DistilBERT\": [0.8401, 0.8932, 0.3689],\n",
        "    \"RoBERTa\": [0.9715, 0.9778, 0.6990]\n",
        "})\n",
        "\n",
        "# melt the data for seaborn plotting\n",
        "df_f1_llm_melted = f1_llm_comparison.melt(id_vars=\"Category\",\n",
        "                                          var_name=\"Model\", value_name=\"F1-score\")\n",
        "\n",
        "\n",
        "plt.figure(figsize=(8, 5))\n",
        "sns.barplot(data=df_f1_llm_melted, x=\"Category\", y=\"F1-score\", hue=\"Model\")\n",
        "plt.title(\"F1-score by essay length and model\")\n",
        "plt.ylim(0, 1)\n",
        "plt.tight_layout()\n",
        "plt.show()\n"
      ],
      "metadata": {
        "colab": {
          "base_uri": "https://localhost:8080/",
          "height": 507
        },
        "id": "j1rY1_vzlS7O",
        "outputId": "9524c437-d44a-4aee-9912-14849b3a2604"
      },
      "execution_count": 222,
      "outputs": [
        {
          "output_type": "display_data",
          "data": {
            "text/plain": [
              "<Figure size 800x500 with 1 Axes>"
            ],
            "image/png": "[encoded data removed]"
          },
          "metadata": {}
        }
      ]
    },
    {
      "cell_type": "code",
      "source": [
        "# create a combined dataframe for Accuracy across models\n",
        "accuracy_comparison = pd.DataFrame({\n",
        "    \"Category\": [\"Short (≤ 200)\", \"Medium (201–500)\", \"Long (> 500)\"],\n",
        "    \"BERT\": [0.9126, 0.8512, 0.8090],\n",
        "    \"DistilBERT\": [0.8619, 0.8875, 0.7399],\n",
        "    \"RoBERTa\": [0.9788, 0.9787, 0.9345]\n",
        "})\n",
        "\n",
        "# melt the data for seaborn plotting\n",
        "df_acc_melted = accuracy_comparison.melt(id_vars=\"Category\",\n",
        "                                         var_name=\"Model\", value_name=\"Accuracy\")\n",
        "\n",
        "\n",
        "plt.figure(figsize=(8, 5))\n",
        "sns.barplot(data=df_acc_melted, x=\"Category\", y=\"Accuracy\", hue=\"Model\")\n",
        "plt.title(\"Accuracy by essay length and model\")\n",
        "plt.ylim(0, 1)\n",
        "plt.tight_layout()\n",
        "plt.show()\n"
      ],
      "metadata": {
        "colab": {
          "base_uri": "https://localhost:8080/",
          "height": 507
        },
        "id": "AYlfVJsIlxEK",
        "outputId": "e76d4c1e-c76d-4784-ba27-f09414f31177"
      },
      "execution_count": 224,
      "outputs": [
        {
          "output_type": "display_data",
          "data": {
            "text/plain": [
              "<Figure size 800x500 with 1 Axes>"
            ],
            "image/png": "[encoded data removed]"
          },
          "metadata": {}
        }
      ]
    }
  ],
  "metadata": {
    "colab": {
      "provenance": [],
      "gpuType": "A100",
      "toc_visible": true,
      "machine_shape": "hm"
    },
    "kaggle": {
      "accelerator": "nvidiaTeslaT4",
      "dataSources": [
        {
          "databundleVersionId": 6888007,
          "sourceId": 61542,
          "sourceType": "competition"
        },
        {
          "datasetId": 3942644,
          "sourceId": 6890527,
          "sourceType": "datasetVersion"
        }
      ],
      "dockerImageVersionId": 30558,
      "isGpuEnabled": true,
      "isInternetEnabled": true,
      "language": "python",
      "sourceType": "notebook"
    },
    "kernelspec": {
      "display_name": "Python 3",
      "name": "python3"
    },
    "language_info": {
      "codemirror_mode": {
        "name": "ipython",
        "version": 3
      },
      "file_extension": ".py",
      "mimetype": "text/x-python",
      "name": "python",
      "nbconvert_exporter": "python",
      "pygments_lexer": "ipython3",
      "version": "3.10.12"
    },
    "accelerator": "GPU"
  },
  "nbformat": 4,
  "nbformat_minor": 0
}